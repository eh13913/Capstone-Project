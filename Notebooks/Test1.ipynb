{
 "cells": [
  {
   "cell_type": "code",
   "execution_count": 1,
   "id": "0ad799be",
   "metadata": {},
   "outputs": [
    {
     "name": "stderr",
     "output_type": "stream",
     "text": [
      "/root/enidh/code/capstone/Capstone-Project/ioutils.py:39: FutureWarning: The 'delim_whitespace' keyword in pd.read_csv is deprecated and will be removed in a future version. Use ``sep='\\s+'`` instead\n",
      "  df = pd.read_csv(\n"
     ]
    },
    {
     "ename": "FileNotFoundError",
     "evalue": "[Errno 2] No such file or directory: './data.txt'",
     "output_type": "error",
     "traceback": [
      "\u001b[0;31m---------------------------------------------------------------------------\u001b[0m",
      "\u001b[0;31mFileNotFoundError\u001b[0m                         Traceback (most recent call last)",
      "Cell \u001b[0;32mIn[1], line 28\u001b[0m\n\u001b[1;32m     26\u001b[0m pardict[\u001b[38;5;124m\"\u001b[39m\u001b[38;5;124minputfile\u001b[39m\u001b[38;5;124m\"\u001b[39m] \u001b[38;5;241m=\u001b[39m os\u001b[38;5;241m.\u001b[39mpath\u001b[38;5;241m.\u001b[39mabspath(inputfile_path)\n\u001b[1;32m     27\u001b[0m pardict \u001b[38;5;241m=\u001b[39m ConfigObj(configpath)\n\u001b[0;32m---> 28\u001b[0m data \u001b[38;5;241m=\u001b[39m InputData(pardict)\n\u001b[1;32m     29\u001b[0m cosmo \u001b[38;5;241m=\u001b[39m CosmoResults(pardict, data\u001b[38;5;241m.\u001b[39mzmin, data\u001b[38;5;241m.\u001b[39mzmax) \u001b[38;5;66;03m# edit for new Pv values\u001b[39;00m\n\u001b[1;32m     30\u001b[0m \u001b[38;5;28;01mif\u001b[39;00m np\u001b[38;5;241m.\u001b[39many(data\u001b[38;5;241m.\u001b[39mvolume \u001b[38;5;241m>\u001b[39m \u001b[38;5;241m0\u001b[39m):\n",
      "File \u001b[0;32m~/enidh/code/capstone/Capstone-Project/ioutils.py:11\u001b[0m, in \u001b[0;36mInputData.__init__\u001b[0;34m(self, pardict)\u001b[0m\n\u001b[1;32m      9\u001b[0m \u001b[38;5;28;01mdef\u001b[39;00m \u001b[38;5;21m__init__\u001b[39m(\u001b[38;5;28mself\u001b[39m, pardict):\n\u001b[0;32m---> 11\u001b[0m     df \u001b[38;5;241m=\u001b[39m \u001b[38;5;28mself\u001b[39m\u001b[38;5;241m.\u001b[39mread_nbar(pardict)\n\u001b[1;32m     13\u001b[0m     \u001b[38;5;28mself\u001b[39m\u001b[38;5;241m.\u001b[39mzmin \u001b[38;5;241m=\u001b[39m df[\u001b[38;5;124m\"\u001b[39m\u001b[38;5;124m zmin\u001b[39m\u001b[38;5;124m\"\u001b[39m]\u001b[38;5;241m.\u001b[39mto_numpy()\n\u001b[1;32m     14\u001b[0m     \u001b[38;5;28mself\u001b[39m\u001b[38;5;241m.\u001b[39mzmax \u001b[38;5;241m=\u001b[39m df[\u001b[38;5;124m\"\u001b[39m\u001b[38;5;124mzmax\u001b[39m\u001b[38;5;124m\"\u001b[39m]\u001b[38;5;241m.\u001b[39mto_numpy()\n",
      "File \u001b[0;32m~/enidh/code/capstone/Capstone-Project/ioutils.py:39\u001b[0m, in \u001b[0;36mInputData.read_nbar\u001b[0;34m(self, pardict)\u001b[0m\n\u001b[1;32m     25\u001b[0m \u001b[38;5;250m\u001b[39m\u001b[38;5;124;03m\"\"\" Reads redshift edges, number density, and bias from an input file\u001b[39;00m\n\u001b[1;32m     26\u001b[0m \n\u001b[1;32m     27\u001b[0m \u001b[38;5;124;03mParameters\u001b[39;00m\n\u001b[0;32m   (...)\u001b[0m\n\u001b[1;32m     35\u001b[0m \n\u001b[1;32m     36\u001b[0m \u001b[38;5;124;03m\"\"\"\u001b[39;00m\n\u001b[1;32m     37\u001b[0m \u001b[38;5;28;01mimport\u001b[39;00m \u001b[38;5;21;01mpandas\u001b[39;00m \u001b[38;5;28;01mas\u001b[39;00m \u001b[38;5;21;01mpd\u001b[39;00m\n\u001b[0;32m---> 39\u001b[0m df \u001b[38;5;241m=\u001b[39m pd\u001b[38;5;241m.\u001b[39mread_csv(\n\u001b[1;32m     40\u001b[0m     pardict[\u001b[38;5;124m\"\u001b[39m\u001b[38;5;124minputfile\u001b[39m\u001b[38;5;124m\"\u001b[39m], delim_whitespace\u001b[38;5;241m=\u001b[39m\u001b[38;5;28;01mTrue\u001b[39;00m, dtype\u001b[38;5;241m=\u001b[39m\u001b[38;5;124m\"\u001b[39m\u001b[38;5;124mfloat\u001b[39m\u001b[38;5;124m\"\u001b[39m, skiprows\u001b[38;5;241m=\u001b[39m\u001b[38;5;241m0\u001b[39m, escapechar\u001b[38;5;241m=\u001b[39m\u001b[38;5;124m\"\u001b[39m\u001b[38;5;124m#\u001b[39m\u001b[38;5;124m\"\u001b[39m\n\u001b[1;32m     41\u001b[0m )\n\u001b[1;32m     43\u001b[0m \u001b[38;5;28;01mreturn\u001b[39;00m df\n",
      "File \u001b[0;32m~/anaconda3/lib/python3.12/site-packages/pandas/io/parsers/readers.py:1026\u001b[0m, in \u001b[0;36mread_csv\u001b[0;34m(filepath_or_buffer, sep, delimiter, header, names, index_col, usecols, dtype, engine, converters, true_values, false_values, skipinitialspace, skiprows, skipfooter, nrows, na_values, keep_default_na, na_filter, verbose, skip_blank_lines, parse_dates, infer_datetime_format, keep_date_col, date_parser, date_format, dayfirst, cache_dates, iterator, chunksize, compression, thousands, decimal, lineterminator, quotechar, quoting, doublequote, escapechar, comment, encoding, encoding_errors, dialect, on_bad_lines, delim_whitespace, low_memory, memory_map, float_precision, storage_options, dtype_backend)\u001b[0m\n\u001b[1;32m   1013\u001b[0m kwds_defaults \u001b[38;5;241m=\u001b[39m _refine_defaults_read(\n\u001b[1;32m   1014\u001b[0m     dialect,\n\u001b[1;32m   1015\u001b[0m     delimiter,\n\u001b[0;32m   (...)\u001b[0m\n\u001b[1;32m   1022\u001b[0m     dtype_backend\u001b[38;5;241m=\u001b[39mdtype_backend,\n\u001b[1;32m   1023\u001b[0m )\n\u001b[1;32m   1024\u001b[0m kwds\u001b[38;5;241m.\u001b[39mupdate(kwds_defaults)\n\u001b[0;32m-> 1026\u001b[0m \u001b[38;5;28;01mreturn\u001b[39;00m _read(filepath_or_buffer, kwds)\n",
      "File \u001b[0;32m~/anaconda3/lib/python3.12/site-packages/pandas/io/parsers/readers.py:620\u001b[0m, in \u001b[0;36m_read\u001b[0;34m(filepath_or_buffer, kwds)\u001b[0m\n\u001b[1;32m    617\u001b[0m _validate_names(kwds\u001b[38;5;241m.\u001b[39mget(\u001b[38;5;124m\"\u001b[39m\u001b[38;5;124mnames\u001b[39m\u001b[38;5;124m\"\u001b[39m, \u001b[38;5;28;01mNone\u001b[39;00m))\n\u001b[1;32m    619\u001b[0m \u001b[38;5;66;03m# Create the parser.\u001b[39;00m\n\u001b[0;32m--> 620\u001b[0m parser \u001b[38;5;241m=\u001b[39m TextFileReader(filepath_or_buffer, \u001b[38;5;241m*\u001b[39m\u001b[38;5;241m*\u001b[39mkwds)\n\u001b[1;32m    622\u001b[0m \u001b[38;5;28;01mif\u001b[39;00m chunksize \u001b[38;5;129;01mor\u001b[39;00m iterator:\n\u001b[1;32m    623\u001b[0m     \u001b[38;5;28;01mreturn\u001b[39;00m parser\n",
      "File \u001b[0;32m~/anaconda3/lib/python3.12/site-packages/pandas/io/parsers/readers.py:1620\u001b[0m, in \u001b[0;36mTextFileReader.__init__\u001b[0;34m(self, f, engine, **kwds)\u001b[0m\n\u001b[1;32m   1617\u001b[0m     \u001b[38;5;28mself\u001b[39m\u001b[38;5;241m.\u001b[39moptions[\u001b[38;5;124m\"\u001b[39m\u001b[38;5;124mhas_index_names\u001b[39m\u001b[38;5;124m\"\u001b[39m] \u001b[38;5;241m=\u001b[39m kwds[\u001b[38;5;124m\"\u001b[39m\u001b[38;5;124mhas_index_names\u001b[39m\u001b[38;5;124m\"\u001b[39m]\n\u001b[1;32m   1619\u001b[0m \u001b[38;5;28mself\u001b[39m\u001b[38;5;241m.\u001b[39mhandles: IOHandles \u001b[38;5;241m|\u001b[39m \u001b[38;5;28;01mNone\u001b[39;00m \u001b[38;5;241m=\u001b[39m \u001b[38;5;28;01mNone\u001b[39;00m\n\u001b[0;32m-> 1620\u001b[0m \u001b[38;5;28mself\u001b[39m\u001b[38;5;241m.\u001b[39m_engine \u001b[38;5;241m=\u001b[39m \u001b[38;5;28mself\u001b[39m\u001b[38;5;241m.\u001b[39m_make_engine(f, \u001b[38;5;28mself\u001b[39m\u001b[38;5;241m.\u001b[39mengine)\n",
      "File \u001b[0;32m~/anaconda3/lib/python3.12/site-packages/pandas/io/parsers/readers.py:1880\u001b[0m, in \u001b[0;36mTextFileReader._make_engine\u001b[0;34m(self, f, engine)\u001b[0m\n\u001b[1;32m   1878\u001b[0m     \u001b[38;5;28;01mif\u001b[39;00m \u001b[38;5;124m\"\u001b[39m\u001b[38;5;124mb\u001b[39m\u001b[38;5;124m\"\u001b[39m \u001b[38;5;129;01mnot\u001b[39;00m \u001b[38;5;129;01min\u001b[39;00m mode:\n\u001b[1;32m   1879\u001b[0m         mode \u001b[38;5;241m+\u001b[39m\u001b[38;5;241m=\u001b[39m \u001b[38;5;124m\"\u001b[39m\u001b[38;5;124mb\u001b[39m\u001b[38;5;124m\"\u001b[39m\n\u001b[0;32m-> 1880\u001b[0m \u001b[38;5;28mself\u001b[39m\u001b[38;5;241m.\u001b[39mhandles \u001b[38;5;241m=\u001b[39m get_handle(\n\u001b[1;32m   1881\u001b[0m     f,\n\u001b[1;32m   1882\u001b[0m     mode,\n\u001b[1;32m   1883\u001b[0m     encoding\u001b[38;5;241m=\u001b[39m\u001b[38;5;28mself\u001b[39m\u001b[38;5;241m.\u001b[39moptions\u001b[38;5;241m.\u001b[39mget(\u001b[38;5;124m\"\u001b[39m\u001b[38;5;124mencoding\u001b[39m\u001b[38;5;124m\"\u001b[39m, \u001b[38;5;28;01mNone\u001b[39;00m),\n\u001b[1;32m   1884\u001b[0m     compression\u001b[38;5;241m=\u001b[39m\u001b[38;5;28mself\u001b[39m\u001b[38;5;241m.\u001b[39moptions\u001b[38;5;241m.\u001b[39mget(\u001b[38;5;124m\"\u001b[39m\u001b[38;5;124mcompression\u001b[39m\u001b[38;5;124m\"\u001b[39m, \u001b[38;5;28;01mNone\u001b[39;00m),\n\u001b[1;32m   1885\u001b[0m     memory_map\u001b[38;5;241m=\u001b[39m\u001b[38;5;28mself\u001b[39m\u001b[38;5;241m.\u001b[39moptions\u001b[38;5;241m.\u001b[39mget(\u001b[38;5;124m\"\u001b[39m\u001b[38;5;124mmemory_map\u001b[39m\u001b[38;5;124m\"\u001b[39m, \u001b[38;5;28;01mFalse\u001b[39;00m),\n\u001b[1;32m   1886\u001b[0m     is_text\u001b[38;5;241m=\u001b[39mis_text,\n\u001b[1;32m   1887\u001b[0m     errors\u001b[38;5;241m=\u001b[39m\u001b[38;5;28mself\u001b[39m\u001b[38;5;241m.\u001b[39moptions\u001b[38;5;241m.\u001b[39mget(\u001b[38;5;124m\"\u001b[39m\u001b[38;5;124mencoding_errors\u001b[39m\u001b[38;5;124m\"\u001b[39m, \u001b[38;5;124m\"\u001b[39m\u001b[38;5;124mstrict\u001b[39m\u001b[38;5;124m\"\u001b[39m),\n\u001b[1;32m   1888\u001b[0m     storage_options\u001b[38;5;241m=\u001b[39m\u001b[38;5;28mself\u001b[39m\u001b[38;5;241m.\u001b[39moptions\u001b[38;5;241m.\u001b[39mget(\u001b[38;5;124m\"\u001b[39m\u001b[38;5;124mstorage_options\u001b[39m\u001b[38;5;124m\"\u001b[39m, \u001b[38;5;28;01mNone\u001b[39;00m),\n\u001b[1;32m   1889\u001b[0m )\n\u001b[1;32m   1890\u001b[0m \u001b[38;5;28;01massert\u001b[39;00m \u001b[38;5;28mself\u001b[39m\u001b[38;5;241m.\u001b[39mhandles \u001b[38;5;129;01mis\u001b[39;00m \u001b[38;5;129;01mnot\u001b[39;00m \u001b[38;5;28;01mNone\u001b[39;00m\n\u001b[1;32m   1891\u001b[0m f \u001b[38;5;241m=\u001b[39m \u001b[38;5;28mself\u001b[39m\u001b[38;5;241m.\u001b[39mhandles\u001b[38;5;241m.\u001b[39mhandle\n",
      "File \u001b[0;32m~/anaconda3/lib/python3.12/site-packages/pandas/io/common.py:873\u001b[0m, in \u001b[0;36mget_handle\u001b[0;34m(path_or_buf, mode, encoding, compression, memory_map, is_text, errors, storage_options)\u001b[0m\n\u001b[1;32m    868\u001b[0m \u001b[38;5;28;01melif\u001b[39;00m \u001b[38;5;28misinstance\u001b[39m(handle, \u001b[38;5;28mstr\u001b[39m):\n\u001b[1;32m    869\u001b[0m     \u001b[38;5;66;03m# Check whether the filename is to be opened in binary mode.\u001b[39;00m\n\u001b[1;32m    870\u001b[0m     \u001b[38;5;66;03m# Binary mode does not support 'encoding' and 'newline'.\u001b[39;00m\n\u001b[1;32m    871\u001b[0m     \u001b[38;5;28;01mif\u001b[39;00m ioargs\u001b[38;5;241m.\u001b[39mencoding \u001b[38;5;129;01mand\u001b[39;00m \u001b[38;5;124m\"\u001b[39m\u001b[38;5;124mb\u001b[39m\u001b[38;5;124m\"\u001b[39m \u001b[38;5;129;01mnot\u001b[39;00m \u001b[38;5;129;01min\u001b[39;00m ioargs\u001b[38;5;241m.\u001b[39mmode:\n\u001b[1;32m    872\u001b[0m         \u001b[38;5;66;03m# Encoding\u001b[39;00m\n\u001b[0;32m--> 873\u001b[0m         handle \u001b[38;5;241m=\u001b[39m \u001b[38;5;28mopen\u001b[39m(\n\u001b[1;32m    874\u001b[0m             handle,\n\u001b[1;32m    875\u001b[0m             ioargs\u001b[38;5;241m.\u001b[39mmode,\n\u001b[1;32m    876\u001b[0m             encoding\u001b[38;5;241m=\u001b[39mioargs\u001b[38;5;241m.\u001b[39mencoding,\n\u001b[1;32m    877\u001b[0m             errors\u001b[38;5;241m=\u001b[39merrors,\n\u001b[1;32m    878\u001b[0m             newline\u001b[38;5;241m=\u001b[39m\u001b[38;5;124m\"\u001b[39m\u001b[38;5;124m\"\u001b[39m,\n\u001b[1;32m    879\u001b[0m         )\n\u001b[1;32m    880\u001b[0m     \u001b[38;5;28;01melse\u001b[39;00m:\n\u001b[1;32m    881\u001b[0m         \u001b[38;5;66;03m# Binary mode\u001b[39;00m\n\u001b[1;32m    882\u001b[0m         handle \u001b[38;5;241m=\u001b[39m \u001b[38;5;28mopen\u001b[39m(handle, ioargs\u001b[38;5;241m.\u001b[39mmode)\n",
      "\u001b[0;31mFileNotFoundError\u001b[0m: [Errno 2] No such file or directory: './data.txt'"
     ]
    }
   ],
   "source": [
    "import sys\n",
    "import os\n",
    "parent = os.path.abspath(\"..\")\n",
    "sys.path.append(parent)\n",
    "configpath = os.path.join(parent, \"test.ini\")\n",
    "import importlib\n",
    "import numpy as np\n",
    "from configobj import ConfigObj\n",
    "from findiff import FinDiff\n",
    "from scipy.integrate import simps\n",
    "from scipy.interpolate import splrep, splev\n",
    "from scipy.linalg.lapack import dgesv\n",
    "from scipy.integrate import quad\n",
    "from itertools import combinations_with_replacement\n",
    "from TackleBox import compute_deriv_alphas, get_powerfx, get_full_deriv, compute_inv_cov, get_inv_cov, CastNet, compute_recon, get_dfactor, Fish\n",
    "from ioutils import CosmoResults, InputData, write_fisher\n",
    "import matplotlib.pyplot as plt\n",
    "\n",
    "#gathering data and set up\n",
    "configpath = os.path.join(parent, \"test.ini\")\n",
    "pardict = ConfigObj(configpath)\n",
    "\n",
    "# resolve inputfile relative to the ini file location\n",
    "ini_dir = os.path.dirname(configpath)\n",
    "inputfile_path = os.path.join(ini_dir, pardict[\"inputfile\"])\n",
    "pardict[\"inputfile\"] = os.path.abspath(inputfile_path)\n",
    "pardict = ConfigObj(configpath)\n",
    "data = InputData(pardict)\n",
    "cosmo = CosmoResults(pardict, data.zmin, data.zmax) # edit for new Pv values\n",
    "if np.any(data.volume > 0):\n",
    "    cosmo.volume = data.volume * 1.0e9\n",
    "data.convert_nbar(cosmo.volume, float(pardict[\"skyarea\"]))\n",
    "muvec = np.linspace(0.0, 1.0, 100)\n",
    "kvec = np.linspace(cosmo.kmin, cosmo.kmax, 400)\n",
    "pkval = splev(kvec, cosmo.pk[0])\n",
    "pksmoothval = splev(kvec, cosmo.pksmooth[0])\n",
    "npop = np.shape(data.nbar)[0]\n",
    "npk = int(npop*(npop+1)/2)\n",
    "derPalpha = compute_deriv_alphas(cosmo,BAO_only=False)\n",
    "coords = [[kval, muval] for kval in kvec for muval in muvec]\n",
    "derPalphaval = np.array([\n",
    "derPalpha[i](coords).reshape(len(kvec), len(muvec)) * (cosmo.sigma8[0] / cosmo.sigma8[0]) ** 2\n",
    "for i in range(2)\n",
    "]) # 2x400x100 array containing perp and para derivative wrt alpha for each k and mu value\n",
    "kaiser = (np.tile(data.bias[:, 0], (len(muvec), 1)).T + cosmo.f[0] * muvec ** 2)\n",
    "fval,sigmaval,zval,hval,nbarval,vbarval,pverr,vol,dk,dmu=cosmo.f[0],cosmo.sigma8[0],cosmo.z[0],cosmo.h[0],data.nbar[0,0],data.nbar[1,0],data.pverr[0,0],cosmo.volume[0],kvec[1]-kvec[0],muvec[1]-muvec[0]"
   ]
  },
  {
   "cell_type": "code",
   "execution_count": 3,
   "id": "0633458a",
   "metadata": {},
   "outputs": [
    {
     "ename": "NameError",
     "evalue": "name 'vol' is not defined",
     "output_type": "error",
     "traceback": [
      "\u001b[0;31m---------------------------------------------------------------------------\u001b[0m",
      "\u001b[0;31mNameError\u001b[0m                                 Traceback (most recent call last)",
      "Cell \u001b[0;32mIn[3], line 1\u001b[0m\n\u001b[0;32m----> 1\u001b[0m \u001b[38;5;28mprint\u001b[39m(vol)\n",
      "\u001b[0;31mNameError\u001b[0m: name 'vol' is not defined"
     ]
    }
   ],
   "source": [
    "print(vol)"
   ]
  },
  {
   "cell_type": "code",
   "execution_count": 2,
   "id": "22c58a3f",
   "metadata": {},
   "outputs": [
    {
     "name": "stdout",
     "output_type": "stream",
     "text": [
      "35605260.67116556 0.0002481203007518797\n"
     ]
    }
   ],
   "source": [
    "print(vol,dk)"
   ]
  },
  {
   "cell_type": "code",
   "execution_count": 3,
   "id": "720e85d3",
   "metadata": {},
   "outputs": [],
   "source": [
    "pgg=np.zeros((len(kvec),len(muvec))) #400x100 array to contain value of pgg at each k and mu value\n",
    "pgu=np.zeros((len(kvec),len(muvec))) #400x100 array to contain value of pgu at each k and mu value\n",
    "puu=np.zeros((len(kvec),len(muvec))) #400x100 array to contain value of puu at each k and mu value\n",
    "\n",
    "bder=np.zeros((3,len(kvec),len(muvec))) #400x100 array to contain derivative of pgg, pgu, pgg wrt b at each k and mu value\n",
    "fder=np.zeros((3,len(kvec),len(muvec))) #400x100 array to contain derivative of pgg, pgu, pgg wrt f at each k and mu value\n",
    "aperder=np.zeros((3,len(kvec),len(muvec))) #400x100 array to contain derivative of pgg, pgu, pgg wrt aperp at each k and mu value\n",
    "aparder=np.zeros((3,len(kvec),len(muvec))) #400x100 array to contain derivative of pgg, pgu, pgg wrt apara at each k and mu value\n",
    "\n",
    "cov=np.zeros((3,3,len(kvec),len(muvec))) # covariance info, 3x3 for Pgg Pgu Puu and then k and mu\n",
    "invcov=np.zeros((3,3,len(kvec),len(muvec))) # inverse covariance info\n",
    "fisherinfo=np.zeros((4,4,len(kvec),len(muvec))) # fisher info, 4x4 for the 4 derivatives and then k and mu"
   ]
  },
  {
   "cell_type": "code",
   "execution_count": 4,
   "id": "14bc4c79",
   "metadata": {},
   "outputs": [
    {
     "ename": "ValueError",
     "evalue": "setting an array element with a sequence.",
     "output_type": "error",
     "traceback": [
      "\u001b[0;31m---------------------------------------------------------------------------\u001b[0m",
      "\u001b[0;31mTypeError\u001b[0m                                 Traceback (most recent call last)",
      "\u001b[0;31mTypeError\u001b[0m: only length-1 arrays can be converted to Python scalars",
      "\nThe above exception was the direct cause of the following exception:\n",
      "\u001b[0;31mValueError\u001b[0m                                Traceback (most recent call last)",
      "Cell \u001b[0;32mIn[4], line 8\u001b[0m\n\u001b[1;32m      6\u001b[0m dfactor\u001b[38;5;241m=\u001b[39mget_dfactor(muval,kval,recon,sigpar,sigperp)\n\u001b[1;32m      7\u001b[0m dfactorarr\u001b[38;5;241m=\u001b[39mnp\u001b[38;5;241m.\u001b[39mones((\u001b[38;5;241m4\u001b[39m,\u001b[38;5;241m4\u001b[39m))\u001b[38;5;241m*\u001b[39mdfactor\n\u001b[0;32m----> 8\u001b[0m pgg[i,j],pgu[i,j],puu[i,j]\u001b[38;5;241m=\u001b[39mget_powerfx(kval,muval,pkval[i],kaiser[j],fval,zval,hval)\n\u001b[1;32m      9\u001b[0m info\u001b[38;5;241m=\u001b[39mget_full_deriv(kval,muval,pkval[i],kaiser[j],fval,zval,hval,derPalphaval[:,i,j],sigmaval) \u001b[38;5;66;03m# then multiply by Dfactor**2 -> same for 4, different for power spec, make them the same for now.\u001b[39;00m\n\u001b[1;32m     10\u001b[0m bder[:,i,j],fder[:,i,j],aperder[:,i,j],aparder[:,i,j]\u001b[38;5;241m=\u001b[39minfo[:,\u001b[38;5;241m0\u001b[39m],info[:,\u001b[38;5;241m1\u001b[39m],info[:,\u001b[38;5;241m2\u001b[39m],info[:,\u001b[38;5;241m3\u001b[39m]\n",
      "\u001b[0;31mValueError\u001b[0m: setting an array element with a sequence."
     ]
    }
   ],
   "source": [
    "# populate these arrays\n",
    "sigpar,sigperp=cosmo.Sigma_par[0],cosmo.Sigma_perp[0]\n",
    "recon=compute_recon(cosmo,data)\n",
    "for i, kval in enumerate(kvec):\n",
    "    for j, muval in enumerate(muvec):\n",
    "        dfactor=get_dfactor(muval,kval,recon,sigpar,sigperp)\n",
    "        dfactorarr=np.ones((4,4))*dfactor\n",
    "        pgg[i,j],pgu[i,j],puu[i,j]=get_powerfx(kval,muval,pkval[i],kaiser[j],fval,zval,hval)\n",
    "        info=get_full_deriv(kval,muval,pkval[i],kaiser[j],fval,zval,hval,derPalphaval[:,i,j],sigmaval) # then multiply by Dfactor**2 -> same for 4, different for power spec, make them the same for now.\n",
    "        bder[:,i,j],fder[:,i,j],aperder[:,i,j],aparder[:,i,j]=info[:,0],info[:,1],info[:,2],info[:,3]\n",
    "        cov[:,:,i,j],invcov[:,:,i,j]=get_inv_cov(pgg[i,j],pgu[i,j],puu[i,j],nbarval,vbarval,pverr,kval,vol,dk) # this is inversed!! k**2 * cosmo.volume[iz] delta k / (2.0 * np.pi ** 2) -> add to this!! and k**2\n",
    "        fisherinfo[:,:,i,j] = info.T @ invcov[:,:,i,j] @ info * dfactorarr ** 2# integrate over mu and k -> use old functions\n",
    "        #cov[:,:,i,j],invcov[:,:,i,j]=get_cov_and_inv(pgg[i,j], pgu[i,j], puu[i,j], nbarval, vbarval, pverr, cosmo.kmin, cosmo.kmax, vol,dmu)"
   ]
  },
  {
   "cell_type": "code",
   "execution_count": null,
   "id": "51527ae5",
   "metadata": {},
   "outputs": [
    {
     "name": "stderr",
     "output_type": "stream",
     "text": [
      "/tmp/ipykernel_80009/1628681875.py:3: DeprecationWarning: 'scipy.integrate.simps' is deprecated in favour of 'scipy.integrate.simpson' and will be removed in SciPy 1.14.0\n",
      "  test = simps(simps(fisherinfo, x=muvec, axis=-1),x=kvec,axis=-1,)\n"
     ]
    }
   ],
   "source": [
    "muvec = np.linspace(0.0, 1.0, 100)\n",
    "kvec = np.linspace(cosmo.kmin, cosmo.kmax, 400)\n",
    "test = simps(simps(fisherinfo, x=muvec, axis=-1),x=kvec,axis=-1,)"
   ]
  },
  {
   "cell_type": "code",
   "execution_count": null,
   "id": "caf75a27",
   "metadata": {},
   "outputs": [
    {
     "name": "stdout",
     "output_type": "stream",
     "text": [
      "0.44077646256128955\n",
      "[  0.44077646 209.40487718  69.01358329] [197.08884546   0.51185047   0.53282359]\n"
     ]
    }
   ],
   "source": [
    "finalcov=np.linalg.inv(test)\n",
    "\n",
    "fs8_mean = fval*sigmaval\n",
    "Da_mean  = cosmo.da[0]\n",
    "H_mean   = hval\n",
    "\n",
    "print(fs8_mean)\n",
    "\n",
    "means = np.array([fs8_mean, Da_mean, H_mean])\n",
    "jacobian = np.identity(finalcov.shape[0])\n",
    "jacobian[-2, -2] = means[1]\n",
    "jacobian[-1, -1] = -means[2]\n",
    "cov_renorm = jacobian @ finalcov @ jacobian.T\n",
    "\n",
    "errs = 100.0 * np.sqrt(np.diag(cov_renorm)[-3:]) / means\n",
    "print(means, errs)"
   ]
  },
  {
   "cell_type": "code",
   "execution_count": 1,
   "id": "2e2181da",
   "metadata": {},
   "outputs": [
    {
     "name": "stderr",
     "output_type": "stream",
     "text": [
      "/root/enidh/code/capstone/Capstone-Project/ioutils.py:38: FutureWarning: The 'delim_whitespace' keyword in pd.read_csv is deprecated and will be removed in a future version. Use ``sep='\\s+'`` instead\n",
      "  df = pd.read_csv(\n"
     ]
    }
   ],
   "source": [
    "import sys\n",
    "import os\n",
    "parent = os.path.abspath(\"..\")\n",
    "sys.path.append(parent)\n",
    "configpath = os.path.join(parent, \"test.ini\")\n",
    "import importlib\n",
    "import numpy as np\n",
    "from configobj import ConfigObj\n",
    "from findiff import FinDiff\n",
    "from scipy.integrate import simps\n",
    "from scipy.interpolate import splrep, splev\n",
    "from scipy.linalg.lapack import dgesv\n",
    "from scipy.integrate import quad\n",
    "from itertools import combinations_with_replacement\n",
    "from TackleBox import compute_deriv_alphas, get_powerfx, get_full_deriv, compute_inv_cov, get_inv_cov, CastNet, get_cov_and_inv, compute_recon, get_dfactor, Fish\n",
    "from ioutils import CosmoResults, InputData, write_fisher\n",
    "import matplotlib.pyplot as plt\n",
    "\n",
    "#gathering data and set up\n",
    "pardict = ConfigObj(configpath)\n",
    "data = InputData(pardict)\n",
    "cosmo = CosmoResults(pardict, data.zmin, data.zmax) # edit for new Pv values\n",
    "if np.any(data.volume > 0):\n",
    "    cosmo.volume = data.volume * 1.0e9\n",
    "data.convert_nbar(cosmo.volume, float(pardict[\"skyarea\"]))\n",
    "muvec = np.linspace(0.0, 1.0, 100)\n",
    "kvec = np.linspace(cosmo.kmin, cosmo.kmax, 400)\n",
    "pkval = splev(kvec, cosmo.pk[0])\n",
    "pksmoothval = splev(kvec, cosmo.pksmooth[0])\n",
    "npop = np.shape(data.nbar)[0]\n",
    "npk = int(npop*(npop+1)/2)\n",
    "derPalpha = compute_deriv_alphas(cosmo,BAO_only=False)\n",
    "coords = [[kval, muval] for kval in kvec for muval in muvec]\n",
    "derPalphaval = np.array([\n",
    "derPalpha[i](coords).reshape(len(kvec), len(muvec)) * (cosmo.sigma8[0] / cosmo.sigma8[0]) ** 2\n",
    "for i in range(2)\n",
    "]) # 2x400x100 array containing perp and para derivative wrt alpha for each k and mu value\n",
    "kaiser = (np.tile(data.bias[:, 0], (len(muvec), 1)).T + cosmo.f[0] * muvec ** 2)\n",
    "recon=compute_recon(cosmo,data)\n",
    "fval,sigmaval,zval,hval,nbarval,vbarval,pverr,vol,dk,dmu=cosmo.f[0],cosmo.sigma8[0],cosmo.z[0],cosmo.h[0],data.nbar[0,0],data.nbar[1,0],data.pverr[0,0],cosmo.volume[0],kvec[1]-kvec[0],muvec[1]-muvec[0]"
   ]
  },
  {
   "cell_type": "code",
   "execution_count": 2,
   "id": "09d7eb84",
   "metadata": {},
   "outputs": [
    {
     "name": "stdout",
     "output_type": "stream",
     "text": [
      "(1, 100)\n",
      "2 3\n"
     ]
    },
    {
     "ename": "ValueError",
     "evalue": "could not broadcast input array from shape (0,) into shape (1,)",
     "output_type": "error",
     "traceback": [
      "\u001b[0;31m---------------------------------------------------------------------------\u001b[0m",
      "\u001b[0;31mValueError\u001b[0m                                Traceback (most recent call last)",
      "Cell \u001b[0;32mIn[2], line 1\u001b[0m\n\u001b[0;32m----> 1\u001b[0m slay\u001b[38;5;241m=\u001b[39mFish(cosmo, cosmo\u001b[38;5;241m.\u001b[39mkmin, cosmo\u001b[38;5;241m.\u001b[39mkmax, data, \u001b[38;5;241m0\u001b[39m, recon, derPalpha, BAO_only\u001b[38;5;241m=\u001b[39m\u001b[38;5;28;01mFalse\u001b[39;00m, GoFast\u001b[38;5;241m=\u001b[39m\u001b[38;5;28;01mTrue\u001b[39;00m)\n",
      "File \u001b[0;32m~/enidh/code/capstone/Capstone-Project/TackleBox.py:147\u001b[0m, in \u001b[0;36mFish\u001b[0;34m(cosmo, kmin, kmax, data, iz, recon, derPalpha, BAO_only, GoFast)\u001b[0m\n\u001b[1;32m    143\u001b[0m     kvec \u001b[38;5;241m=\u001b[39m np\u001b[38;5;241m.\u001b[39mlinspace(kmin, kmax, \u001b[38;5;241m400\u001b[39m)\n\u001b[1;32m    144\u001b[0m     \u001b[38;5;66;03m# 2D integration\u001b[39;00m\n\u001b[1;32m    145\u001b[0m     ManyFish \u001b[38;5;241m=\u001b[39m simps(\n\u001b[1;32m    146\u001b[0m         simps(\n\u001b[0;32m--> 147\u001b[0m             CastNet(muvec, kvec, iz, npop, npk, data, cosmo, recon, derPalpha, BAO_only), x\u001b[38;5;241m=\u001b[39mmuvec, axis\u001b[38;5;241m=\u001b[39m\u001b[38;5;241m-\u001b[39m\u001b[38;5;241m1\u001b[39m\n\u001b[1;32m    148\u001b[0m         ),\n\u001b[1;32m    149\u001b[0m         x\u001b[38;5;241m=\u001b[39mkvec,\n\u001b[1;32m    150\u001b[0m         axis\u001b[38;5;241m=\u001b[39m\u001b[38;5;241m-\u001b[39m\u001b[38;5;241m1\u001b[39m,\n\u001b[1;32m    151\u001b[0m     )\n\u001b[1;32m    153\u001b[0m \u001b[38;5;28;01melse\u001b[39;00m:\n\u001b[1;32m    154\u001b[0m     \u001b[38;5;66;03m# Integral over mu\u001b[39;00m\n\u001b[1;32m    155\u001b[0m     OneFish \u001b[38;5;241m=\u001b[39m \u001b[38;5;28;01mlambda\u001b[39;00m \u001b[38;5;241m*\u001b[39margs: quad(CastNet, \u001b[38;5;241m0.0\u001b[39m, \u001b[38;5;241m1.0\u001b[39m, args\u001b[38;5;241m=\u001b[39margs, limit\u001b[38;5;241m=\u001b[39m\u001b[38;5;241m10000\u001b[39m, epsabs\u001b[38;5;241m=\u001b[39m\u001b[38;5;241m1.0e-6\u001b[39m, epsrel\u001b[38;5;241m=\u001b[39m\u001b[38;5;241m1.0e-6\u001b[39m)[\n\u001b[1;32m    156\u001b[0m         \u001b[38;5;241m0\u001b[39m\n\u001b[1;32m    157\u001b[0m     ]\n",
      "File \u001b[0;32m~/enidh/code/capstone/Capstone-Project/TackleBox.py:248\u001b[0m, in \u001b[0;36mCastNet\u001b[0;34m(mu, k, iz, npop, npk, data, cosmo, recon, derPalpha, BAO_only)\u001b[0m\n\u001b[1;32m    245\u001b[0m \u001b[38;5;28;01mfor\u001b[39;00m i, kval \u001b[38;5;129;01min\u001b[39;00m \u001b[38;5;28menumerate\u001b[39m(k):\n\u001b[1;32m    246\u001b[0m     \u001b[38;5;28;01mfor\u001b[39;00m j, muval \u001b[38;5;129;01min\u001b[39;00m \u001b[38;5;28menumerate\u001b[39m(mu):\n\u001b[1;32m    247\u001b[0m         \u001b[38;5;66;03m#print()\u001b[39;00m\n\u001b[0;32m--> 248\u001b[0m         derP \u001b[38;5;241m=\u001b[39m compute_full_deriv(\n\u001b[1;32m    249\u001b[0m             npop,\n\u001b[1;32m    250\u001b[0m             npk,\n\u001b[1;32m    251\u001b[0m             kaiser[:, j], \u001b[38;5;66;03m#,\u001b[39;00m\n\u001b[1;32m    252\u001b[0m             pkval[i],\n\u001b[1;32m    253\u001b[0m             pksmoothval[i],\n\u001b[1;32m    254\u001b[0m             muval,\n\u001b[1;32m    255\u001b[0m             [derPalphaval[\u001b[38;5;241m0\u001b[39m][i, j], derPalphaval[\u001b[38;5;241m1\u001b[39m][i, j]],\n\u001b[1;32m    256\u001b[0m             cosmo\u001b[38;5;241m.\u001b[39mf[iz],\n\u001b[1;32m    257\u001b[0m             cosmo\u001b[38;5;241m.\u001b[39msigma8[iz],\n\u001b[1;32m    258\u001b[0m             BAO_only,\n\u001b[1;32m    259\u001b[0m         )\n\u001b[1;32m    260\u001b[0m         \u001b[38;5;28mprint\u001b[39m(\u001b[38;5;124m'\u001b[39m\u001b[38;5;124mnooo\u001b[39m\u001b[38;5;124m'\u001b[39m)\n\u001b[1;32m    261\u001b[0m         covP, cov_inv \u001b[38;5;241m=\u001b[39m compute_inv_cov(npop, npk, kaiser[:, j], pkval[i], data\u001b[38;5;241m.\u001b[39mnbar[:, iz])\n",
      "File \u001b[0;32m~/enidh/code/capstone/Capstone-Project/TackleBox.py:372\u001b[0m, in \u001b[0;36mcompute_full_deriv\u001b[0;34m(npop, npk, kaiser, pk, pksmooth, mu, derPalpha, f, sigma8, BAO_only)\u001b[0m\n\u001b[1;32m    370\u001b[0m \u001b[38;5;28;01mfor\u001b[39;00m i \u001b[38;5;129;01min\u001b[39;00m \u001b[38;5;28mrange\u001b[39m(npop):\n\u001b[1;32m    371\u001b[0m     derP[i, \u001b[38;5;28mint\u001b[39m(i \u001b[38;5;241m*\u001b[39m (npop \u001b[38;5;241m+\u001b[39m (\u001b[38;5;241m1\u001b[39m \u001b[38;5;241m-\u001b[39m i) \u001b[38;5;241m/\u001b[39m \u001b[38;5;241m2\u001b[39m))] \u001b[38;5;241m=\u001b[39m \u001b[38;5;241m2.0\u001b[39m \u001b[38;5;241m*\u001b[39m kaiser[i] \u001b[38;5;241m*\u001b[39m pk \u001b[38;5;241m/\u001b[39m sigma8\n\u001b[0;32m--> 372\u001b[0m     derP[i, \u001b[38;5;28mint\u001b[39m(i \u001b[38;5;241m*\u001b[39m (npop \u001b[38;5;241m+\u001b[39m (\u001b[38;5;241m1\u001b[39m \u001b[38;5;241m-\u001b[39m i) \u001b[38;5;241m/\u001b[39m \u001b[38;5;241m2\u001b[39m)) \u001b[38;5;241m+\u001b[39m \u001b[38;5;241m1\u001b[39m : \u001b[38;5;28mint\u001b[39m((i \u001b[38;5;241m+\u001b[39m \u001b[38;5;241m1\u001b[39m) \u001b[38;5;241m*\u001b[39m (npop \u001b[38;5;241m-\u001b[39m i \u001b[38;5;241m/\u001b[39m \u001b[38;5;241m2\u001b[39m))] \u001b[38;5;241m=\u001b[39m (\n\u001b[1;32m    373\u001b[0m         kaiser[i \u001b[38;5;241m+\u001b[39m \u001b[38;5;241m1\u001b[39m :] \u001b[38;5;241m*\u001b[39m pk \u001b[38;5;241m/\u001b[39m sigma8\n\u001b[1;32m    374\u001b[0m     )\n\u001b[1;32m    375\u001b[0m     \u001b[38;5;28;01mfor\u001b[39;00m j \u001b[38;5;129;01min\u001b[39;00m \u001b[38;5;28mrange\u001b[39m(\u001b[38;5;241m0\u001b[39m, i):\n\u001b[1;32m    376\u001b[0m         derP[i, i \u001b[38;5;241m+\u001b[39m \u001b[38;5;28mint\u001b[39m(j \u001b[38;5;241m*\u001b[39m (npop \u001b[38;5;241m-\u001b[39m (\u001b[38;5;241m1\u001b[39m \u001b[38;5;241m+\u001b[39m j) \u001b[38;5;241m/\u001b[39m \u001b[38;5;241m2\u001b[39m))] \u001b[38;5;241m=\u001b[39m kaiser[j] \u001b[38;5;241m*\u001b[39m pk \u001b[38;5;241m/\u001b[39m sigma8\n",
      "\u001b[0;31mValueError\u001b[0m: could not broadcast input array from shape (0,) into shape (1,)"
     ]
    }
   ],
   "source": [
    "slay=Fish(cosmo, cosmo.kmin, cosmo.kmax, data, 0, recon, derPalpha, BAO_only=False, GoFast=True)"
   ]
  },
  {
   "cell_type": "code",
   "execution_count": 7,
   "id": "eb2fbaf1",
   "metadata": {},
   "outputs": [
    {
     "name": "stderr",
     "output_type": "stream",
     "text": [
      "<>:5: SyntaxWarning: invalid escape sequence '\\m'\n",
      "<>:5: SyntaxWarning: invalid escape sequence '\\m'\n",
      "/tmp/ipykernel_61340/3593044811.py:5: SyntaxWarning: invalid escape sequence '\\m'\n",
      "  plt.title('P$_{{gg}}$ with errorbars at $\\mu$={:.2f}'.format(muvec[i]))\n"
     ]
    },
    {
     "data": {
      "image/png": "[encoded data removed]",
      "text/plain": [
       "<Figure size 640x480 with 1 Axes>"
      ]
     },
     "metadata": {},
     "output_type": "display_data"
    }
   ],
   "source": [
    "for i in range(1):\n",
    "    plt.errorbar(kvec[::5],(pgg[:,99])[::5],yerr=(np.sqrt(cov[0,0,:,99]))[::5])\n",
    "    plt.xlabel('k (h Mpc$^{-1}$)')\n",
    "    plt.ylabel('P$_{gg}$')\n",
    "    plt.title('P$_{{gg}}$ with errorbars at $\\mu$={:.2f}'.format(muvec[i]))\n",
    "    plt.show() #something is up, kvals make it baaaad\n",
    "    #path = '../../Data/Storage2/{:03d}.png'.format(i)\n",
    "    #plt.savefig(path, dpi=300)\n",
    "    #plt.close()"
   ]
  },
  {
   "cell_type": "code",
   "execution_count": 8,
   "id": "18ef6db8",
   "metadata": {},
   "outputs": [
    {
     "ename": "NameError",
     "evalue": "name 'BAO_only' is not defined",
     "output_type": "error",
     "traceback": [
      "\u001b[0;31m---------------------------------------------------------------------------\u001b[0m",
      "\u001b[0;31mNameError\u001b[0m                                 Traceback (most recent call last)",
      "Cell \u001b[0;32mIn[8], line 1\u001b[0m\n\u001b[0;32m----> 1\u001b[0m CastNet(muvec, kvec, \u001b[38;5;241m0\u001b[39m, npop, npk, data, cosmo, recon, derPalpha, BAO_only)\n",
      "\u001b[0;31mNameError\u001b[0m: name 'BAO_only' is not defined"
     ]
    }
   ],
   "source": [
    "CastNet(muvec, kvec, 0, npop, npk, data, cosmo, recon, derPalpha, BAO_only) #problemsss"
   ]
  },
  {
   "cell_type": "code",
   "execution_count": 45,
   "id": "77e5346c",
   "metadata": {},
   "outputs": [],
   "source": [
    "from PIL import Image, ImageDraw\n",
    "folder_path = \"../../Data/Storage2\"\n",
    "output_folder = \"../Figures\"\n",
    "output_gif = os.path.join(output_folder, \"Pgg Errorbars.gif\")\n",
    "image_files = [os.path.join(folder_path, file) for file in os.listdir(folder_path) if file.endswith(('.png', '.jpg', '.jpeg'))]\n",
    "image_files.sort()\n",
    "images = [Image.open(img) for img in image_files]\n",
    "images[0].save(output_gif, save_all=True, append_images=images[1:], duration=100, loop=0)"
   ]
  },
  {
   "cell_type": "code",
   "execution_count": 4,
   "id": "0c9a52cf",
   "metadata": {},
   "outputs": [
    {
     "data": {
      "image/png": "[encoded data removed]",
      "text/plain": [
       "<Figure size 640x480 with 1 Axes>"
      ]
     },
     "metadata": {},
     "output_type": "display_data"
    }
   ],
   "source": [
    "# plot correlation coeff Cij/sqrt(Cii*Cjj) (for all combos 0 1 2) i=0, j=1, i=1, j=2, i=0, j=2 #0,1 represents Pgg Pgu, 0,2 represents Pgg Puu, 1,2 represents Pgu Puu\n",
    "icombo=[0,0,1]\n",
    "jcombo=[1,2,2]\n",
    "coloring=['r','b','g']\n",
    "idx=99\n",
    "for i in range(3):\n",
    "    correlcoef=cov[icombo[i],jcombo[i],:,idx]/(np.sqrt(cov[icombo[i],icombo[i],:,idx]*cov[jcombo[i],jcombo[i],:,idx]))\n",
    "    if i==2:\n",
    "        plt.plot(kvec,correlcoef,label='$\\\\rho_{{{:.0f}{:.0f}}}$'.format(icombo[i],jcombo[i]),linestyle='--',color=coloring[i])\n",
    "    else:\n",
    "        plt.plot(kvec,correlcoef,label='$\\\\rho_{{{:.0f}{:.0f}}}$'.format(icombo[i],jcombo[i]),color=coloring[i])\n",
    "plt.legend()\n",
    "plt.show()"
   ]
  },
  {
   "cell_type": "code",
   "execution_count": 12,
   "id": "8f61ca34",
   "metadata": {},
   "outputs": [
    {
     "name": "stdout",
     "output_type": "stream",
     "text": [
      "19493692415264.67 19495865870321.594 0.9998885171312021\n",
      "3.222281824769103e+20 3.222641094043373e+20 0.9998885171312022\n"
     ]
    }
   ],
   "source": [
    "print(cov[0,1,3,99],np.sqrt(cov[0,0,3,99]*cov[1,1,3,99]),cov[0,1,3,99]/np.sqrt(cov[0,0,3,99]*cov[1,1,3,99]))\n",
    "print(cov[1,2,3,99],np.sqrt(cov[1,1,3,99]*cov[2,2,3,99]),cov[1,2,3,99]/np.sqrt(cov[1,1,3,99]*cov[2,2,3,99]))"
   ]
  },
  {
   "cell_type": "code",
   "execution_count": 9,
   "id": "7ea346b3",
   "metadata": {},
   "outputs": [
    {
     "name": "stderr",
     "output_type": "stream",
     "text": [
      "<>:8: SyntaxWarning: invalid escape sequence '\\m'\n",
      "<>:8: SyntaxWarning: invalid escape sequence '\\m'\n",
      "/tmp/ipykernel_114389/793520797.py:8: SyntaxWarning: invalid escape sequence '\\m'\n",
      "  plt.plot(kvec,correlcoef,label='$\\mu={:.0f}$'.format(cmu[i]),color=coloring[i])\n"
     ]
    },
    {
     "data": {
      "image/png": "[encoded data removed]",
      "text/plain": [
       "<Figure size 640x480 with 1 Axes>"
      ]
     },
     "metadata": {},
     "output_type": "display_data"
    }
   ],
   "source": [
    "# plot correlation coeff Cij/sqrt(Cii*Cjj) (for all combos 0 1 2) i=0, j=1, i=1, j=2, i=0, j=2 #0,1 represents Pgg Pgu, 0,2 represents Pgg Puu, 1,2 represents Pgu Puu\n",
    "cmu=[10,49,99]\n",
    "#icombo=[0,0,1]\n",
    "#jcombo=[1,2,2]\n",
    "coloring=['r','b','g']\n",
    "for i in range(3):\n",
    "    correlcoef=cov[0,2,:,cmu[i]]/(np.sqrt(cov[0,0,:,cmu[i]]*cov[2,2,:,cmu[i]]))\n",
    "    plt.plot(kvec,correlcoef,label='$\\mu={:.0f}$'.format(cmu[i]),color=coloring[i])\n",
    "plt.legend()\n",
    "plt.title('Correlation coefficient $\\\\rho_{02}$ against k')\n",
    "plt.ylabel('$\\\\rho_{02}$')\n",
    "plt.xlabel('k (h Mpc$^{-1}$)')\n",
    "plt.show()\n",
    "#path = '../Figures/Correlation 02.png'\n",
    "#plt.savefig(path, dpi=300)\n",
    "#plt.close()"
   ]
  },
  {
   "cell_type": "code",
   "execution_count": 142,
   "id": "6a7ebfab",
   "metadata": {},
   "outputs": [
    {
     "name": "stderr",
     "output_type": "stream",
     "text": [
      "<>:7: SyntaxWarning: invalid escape sequence '\\m'\n",
      "<>:7: SyntaxWarning: invalid escape sequence '\\m'\n",
      "/tmp/ipykernel_15904/1977396551.py:7: SyntaxWarning: invalid escape sequence '\\m'\n",
      "  plt.plot(kvec,cov[q,r,:,cmu[i]]*kvec**3,label='$\\mu={:.0f}$'.format(cmu[i]),color=coloring[i])\n"
     ]
    }
   ],
   "source": [
    "cmu=[10,49,99]\n",
    "#icombo=[0,0,1]\n",
    "#jcombo=[1,2,2]\n",
    "coloring=['r','b','g']\n",
    "q,r=1,2\n",
    "for i in range(3):\n",
    "    plt.plot(kvec,cov[q,r,:,cmu[i]]*kvec**3,label='$\\mu={:.0f}$'.format(cmu[i]),color=coloring[i])\n",
    "plt.legend()\n",
    "plt.title('C$_{{{:.0f}{:.0f}}}$ against k'.format(q,r))\n",
    "plt.ylabel('C$_{{{:.0f}{:.0f}}}k^3$'.format(q,r))\n",
    "plt.xlabel('k (h Mpc$^{-1}$)')\n",
    "path = '../Figures/Covariance {:.0f}{:.0f}.png'.format(q,r)\n",
    "plt.savefig(path, dpi=300)\n",
    "plt.close()"
   ]
  },
  {
   "cell_type": "code",
   "execution_count": 82,
   "id": "d40c57ca",
   "metadata": {},
   "outputs": [
    {
     "name": "stderr",
     "output_type": "stream",
     "text": [
      "<>:2: SyntaxWarning: invalid escape sequence '\\s'\n",
      "<>:3: SyntaxWarning: invalid escape sequence '\\s'\n",
      "<>:4: SyntaxWarning: invalid escape sequence '\\p'\n",
      "<>:5: SyntaxWarning: invalid escape sequence '\\p'\n",
      "<>:2: SyntaxWarning: invalid escape sequence '\\s'\n",
      "<>:3: SyntaxWarning: invalid escape sequence '\\s'\n",
      "<>:4: SyntaxWarning: invalid escape sequence '\\p'\n",
      "<>:5: SyntaxWarning: invalid escape sequence '\\p'\n",
      "/tmp/ipykernel_65982/84847993.py:2: SyntaxWarning: invalid escape sequence '\\s'\n",
      "  plt.plot(kvec,1/(pgg[:,i])*bder[0,:,i],color='r',label='b$\\sigma_8$')\n",
      "/tmp/ipykernel_65982/84847993.py:3: SyntaxWarning: invalid escape sequence '\\s'\n",
      "  plt.plot(kvec,1/(pgg[:,i])*fder[0,:,i],color='b',label='f$\\sigma_8$')\n",
      "/tmp/ipykernel_65982/84847993.py:4: SyntaxWarning: invalid escape sequence '\\p'\n",
      "  plt.plot(kvec,1/(pgg[:,i])*aperder[0,:,i],color='g',label='$\\\\alpha_{\\perp}$')\n",
      "/tmp/ipykernel_65982/84847993.py:5: SyntaxWarning: invalid escape sequence '\\p'\n",
      "  plt.plot(kvec,1/(pgg[:,i])*aparder[0,:,i],color='m',label='$\\\\alpha_{\\parallel}$')\n"
     ]
    }
   ],
   "source": [
    "for i in range(len(muvec)):\n",
    "    plt.plot(kvec,1/(pgg[:,i])*bder[0,:,i],color='r',label='b$\\sigma_8$')\n",
    "    plt.plot(kvec,1/(pgg[:,i])*fder[0,:,i],color='b',label='f$\\sigma_8$')\n",
    "    plt.plot(kvec,1/(pgg[:,i])*aperder[0,:,i],color='g',label='$\\\\alpha_{\\perp}$')\n",
    "    plt.plot(kvec,1/(pgg[:,i])*aparder[0,:,i],color='m',label='$\\\\alpha_{\\parallel}$')\n",
    "    plt.xlabel('k (h MPC$^{-1}$)')\n",
    "    plt.ylabel('$\\\\frac{1}{P_{gg}}$ $\\\\frac{dP_{gg}}{d\\\\theta_i}$',fontsize=15,labelpad=-5)\n",
    "    plt.title('Derivatives of $P_{gg}$')\n",
    "    plt.xlim(-0.01,0.51)\n",
    "    plt.ylim(-2,5)\n",
    "    plt.legend(loc=1)\n",
    "    path = '../../Data/Pgg/{:03d}'.format(i)\n",
    "    plt.savefig(path, dpi=300)\n",
    "    plt.close()"
   ]
  },
  {
   "cell_type": "code",
   "execution_count": 83,
   "id": "1d8b24e2",
   "metadata": {},
   "outputs": [],
   "source": [
    "from PIL import Image, ImageDraw\n",
    "folder_path = \"../../Data/Pgg\"\n",
    "output_folder = \"../Figures\"\n",
    "output_gif = os.path.join(output_folder, \"Pgg Derivatives.gif\")\n",
    "image_files = [os.path.join(folder_path, file) for file in os.listdir(folder_path) if file.endswith(('.png', '.jpg', '.jpeg'))]\n",
    "image_files.sort()\n",
    "images = [Image.open(img) for img in image_files]\n",
    "images[0].save(output_gif, save_all=True, append_images=images[1:], duration=100, loop=0)"
   ]
  },
  {
   "cell_type": "code",
   "execution_count": null,
   "id": "c212b42d",
   "metadata": {},
   "outputs": [
    {
     "name": "stdout",
     "output_type": "stream",
     "text": [
      "[[241.76508731]\n",
      " [740.84558042]\n",
      " [848.10014241]\n",
      " [ 58.68211596]]\n"
     ]
    }
   ],
   "source": [
    "print(derP) #kaiser stays same for k vals different for mu, so different kaiser for each mu. Pgg should return kvec x muvec with Pgg at "
   ]
  },
  {
   "cell_type": "code",
   "execution_count": 43,
   "id": "da0c89a9",
   "metadata": {},
   "outputs": [
    {
     "name": "stdout",
     "output_type": "stream",
     "text": [
      "[1.42707577] [0.55802494]\n"
     ]
    }
   ],
   "source": [
    "#print(derPalphaval[1].T[0].shape)\n",
    "#print(kaiser[:,60].shape)\n",
    "#print(len(kvec))\n",
    "print(kaiser[:,30],cosmo.f)"
   ]
  },
  {
   "cell_type": "code",
   "execution_count": 38,
   "id": "961c5992",
   "metadata": {},
   "outputs": [
    {
     "ename": "ValueError",
     "evalue": "x and y must have same first dimension, but have shapes (400,) and (1,)",
     "output_type": "error",
     "traceback": [
      "\u001b[0;31m---------------------------------------------------------------------------\u001b[0m",
      "\u001b[0;31mValueError\u001b[0m                                Traceback (most recent call last)",
      "Cell \u001b[0;32mIn[38], line 6\u001b[0m\n\u001b[1;32m      4\u001b[0m plt\u001b[38;5;241m.\u001b[39mplot(kvec,derPalphaval[\u001b[38;5;241m1\u001b[39m]\u001b[38;5;241m.\u001b[39mT[\u001b[38;5;241m30\u001b[39m],color\u001b[38;5;241m=\u001b[39m\u001b[38;5;124m'\u001b[39m\u001b[38;5;124mg\u001b[39m\u001b[38;5;124m'\u001b[39m)\n\u001b[1;32m      5\u001b[0m plt\u001b[38;5;241m.\u001b[39mplot(kvec,derPalphaval[\u001b[38;5;241m1\u001b[39m]\u001b[38;5;241m.\u001b[39mT[\u001b[38;5;241m60\u001b[39m],color\u001b[38;5;241m=\u001b[39m\u001b[38;5;124m'\u001b[39m\u001b[38;5;124mm\u001b[39m\u001b[38;5;124m'\u001b[39m)\n\u001b[0;32m----> 6\u001b[0m plt\u001b[38;5;241m.\u001b[39mplot(kvec,kaiser[:,\u001b[38;5;241m30\u001b[39m],color\u001b[38;5;241m=\u001b[39m\u001b[38;5;124m'\u001b[39m\u001b[38;5;124mk\u001b[39m\u001b[38;5;124m'\u001b[39m)\n",
      "File \u001b[0;32m~/anaconda3/lib/python3.12/site-packages/matplotlib/pyplot.py:3590\u001b[0m, in \u001b[0;36mplot\u001b[0;34m(scalex, scaley, data, *args, **kwargs)\u001b[0m\n\u001b[1;32m   3582\u001b[0m \u001b[38;5;129m@_copy_docstring_and_deprecators\u001b[39m(Axes\u001b[38;5;241m.\u001b[39mplot)\n\u001b[1;32m   3583\u001b[0m \u001b[38;5;28;01mdef\u001b[39;00m \u001b[38;5;21mplot\u001b[39m(\n\u001b[1;32m   3584\u001b[0m     \u001b[38;5;241m*\u001b[39margs: \u001b[38;5;28mfloat\u001b[39m \u001b[38;5;241m|\u001b[39m ArrayLike \u001b[38;5;241m|\u001b[39m \u001b[38;5;28mstr\u001b[39m,\n\u001b[0;32m   (...)\u001b[0m\n\u001b[1;32m   3588\u001b[0m     \u001b[38;5;241m*\u001b[39m\u001b[38;5;241m*\u001b[39mkwargs,\n\u001b[1;32m   3589\u001b[0m ) \u001b[38;5;241m-\u001b[39m\u001b[38;5;241m>\u001b[39m \u001b[38;5;28mlist\u001b[39m[Line2D]:\n\u001b[0;32m-> 3590\u001b[0m     \u001b[38;5;28;01mreturn\u001b[39;00m gca()\u001b[38;5;241m.\u001b[39mplot(\n\u001b[1;32m   3591\u001b[0m         \u001b[38;5;241m*\u001b[39margs,\n\u001b[1;32m   3592\u001b[0m         scalex\u001b[38;5;241m=\u001b[39mscalex,\n\u001b[1;32m   3593\u001b[0m         scaley\u001b[38;5;241m=\u001b[39mscaley,\n\u001b[1;32m   3594\u001b[0m         \u001b[38;5;241m*\u001b[39m\u001b[38;5;241m*\u001b[39m({\u001b[38;5;124m\"\u001b[39m\u001b[38;5;124mdata\u001b[39m\u001b[38;5;124m\"\u001b[39m: data} \u001b[38;5;28;01mif\u001b[39;00m data \u001b[38;5;129;01mis\u001b[39;00m \u001b[38;5;129;01mnot\u001b[39;00m \u001b[38;5;28;01mNone\u001b[39;00m \u001b[38;5;28;01melse\u001b[39;00m {}),\n\u001b[1;32m   3595\u001b[0m         \u001b[38;5;241m*\u001b[39m\u001b[38;5;241m*\u001b[39mkwargs,\n\u001b[1;32m   3596\u001b[0m     )\n",
      "File \u001b[0;32m~/anaconda3/lib/python3.12/site-packages/matplotlib/axes/_axes.py:1724\u001b[0m, in \u001b[0;36mAxes.plot\u001b[0;34m(self, scalex, scaley, data, *args, **kwargs)\u001b[0m\n\u001b[1;32m   1481\u001b[0m \u001b[38;5;250m\u001b[39m\u001b[38;5;124;03m\"\"\"\u001b[39;00m\n\u001b[1;32m   1482\u001b[0m \u001b[38;5;124;03mPlot y versus x as lines and/or markers.\u001b[39;00m\n\u001b[1;32m   1483\u001b[0m \n\u001b[0;32m   (...)\u001b[0m\n\u001b[1;32m   1721\u001b[0m \u001b[38;5;124;03m(``'green'``) or hex strings (``'#008000'``).\u001b[39;00m\n\u001b[1;32m   1722\u001b[0m \u001b[38;5;124;03m\"\"\"\u001b[39;00m\n\u001b[1;32m   1723\u001b[0m kwargs \u001b[38;5;241m=\u001b[39m cbook\u001b[38;5;241m.\u001b[39mnormalize_kwargs(kwargs, mlines\u001b[38;5;241m.\u001b[39mLine2D)\n\u001b[0;32m-> 1724\u001b[0m lines \u001b[38;5;241m=\u001b[39m [\u001b[38;5;241m*\u001b[39m\u001b[38;5;28mself\u001b[39m\u001b[38;5;241m.\u001b[39m_get_lines(\u001b[38;5;28mself\u001b[39m, \u001b[38;5;241m*\u001b[39margs, data\u001b[38;5;241m=\u001b[39mdata, \u001b[38;5;241m*\u001b[39m\u001b[38;5;241m*\u001b[39mkwargs)]\n\u001b[1;32m   1725\u001b[0m \u001b[38;5;28;01mfor\u001b[39;00m line \u001b[38;5;129;01min\u001b[39;00m lines:\n\u001b[1;32m   1726\u001b[0m     \u001b[38;5;28mself\u001b[39m\u001b[38;5;241m.\u001b[39madd_line(line)\n",
      "File \u001b[0;32m~/anaconda3/lib/python3.12/site-packages/matplotlib/axes/_base.py:303\u001b[0m, in \u001b[0;36m_process_plot_var_args.__call__\u001b[0;34m(self, axes, data, *args, **kwargs)\u001b[0m\n\u001b[1;32m    301\u001b[0m     this \u001b[38;5;241m+\u001b[39m\u001b[38;5;241m=\u001b[39m args[\u001b[38;5;241m0\u001b[39m],\n\u001b[1;32m    302\u001b[0m     args \u001b[38;5;241m=\u001b[39m args[\u001b[38;5;241m1\u001b[39m:]\n\u001b[0;32m--> 303\u001b[0m \u001b[38;5;28;01myield from\u001b[39;00m \u001b[38;5;28mself\u001b[39m\u001b[38;5;241m.\u001b[39m_plot_args(\n\u001b[1;32m    304\u001b[0m     axes, this, kwargs, ambiguous_fmt_datakey\u001b[38;5;241m=\u001b[39mambiguous_fmt_datakey)\n",
      "File \u001b[0;32m~/anaconda3/lib/python3.12/site-packages/matplotlib/axes/_base.py:499\u001b[0m, in \u001b[0;36m_process_plot_var_args._plot_args\u001b[0;34m(self, axes, tup, kwargs, return_kwargs, ambiguous_fmt_datakey)\u001b[0m\n\u001b[1;32m    496\u001b[0m     axes\u001b[38;5;241m.\u001b[39myaxis\u001b[38;5;241m.\u001b[39mupdate_units(y)\n\u001b[1;32m    498\u001b[0m \u001b[38;5;28;01mif\u001b[39;00m x\u001b[38;5;241m.\u001b[39mshape[\u001b[38;5;241m0\u001b[39m] \u001b[38;5;241m!=\u001b[39m y\u001b[38;5;241m.\u001b[39mshape[\u001b[38;5;241m0\u001b[39m]:\n\u001b[0;32m--> 499\u001b[0m     \u001b[38;5;28;01mraise\u001b[39;00m \u001b[38;5;167;01mValueError\u001b[39;00m(\u001b[38;5;124mf\u001b[39m\u001b[38;5;124m\"\u001b[39m\u001b[38;5;124mx and y must have same first dimension, but \u001b[39m\u001b[38;5;124m\"\u001b[39m\n\u001b[1;32m    500\u001b[0m                      \u001b[38;5;124mf\u001b[39m\u001b[38;5;124m\"\u001b[39m\u001b[38;5;124mhave shapes \u001b[39m\u001b[38;5;132;01m{\u001b[39;00mx\u001b[38;5;241m.\u001b[39mshape\u001b[38;5;132;01m}\u001b[39;00m\u001b[38;5;124m and \u001b[39m\u001b[38;5;132;01m{\u001b[39;00my\u001b[38;5;241m.\u001b[39mshape\u001b[38;5;132;01m}\u001b[39;00m\u001b[38;5;124m\"\u001b[39m)\n\u001b[1;32m    501\u001b[0m \u001b[38;5;28;01mif\u001b[39;00m x\u001b[38;5;241m.\u001b[39mndim \u001b[38;5;241m>\u001b[39m \u001b[38;5;241m2\u001b[39m \u001b[38;5;129;01mor\u001b[39;00m y\u001b[38;5;241m.\u001b[39mndim \u001b[38;5;241m>\u001b[39m \u001b[38;5;241m2\u001b[39m:\n\u001b[1;32m    502\u001b[0m     \u001b[38;5;28;01mraise\u001b[39;00m \u001b[38;5;167;01mValueError\u001b[39;00m(\u001b[38;5;124mf\u001b[39m\u001b[38;5;124m\"\u001b[39m\u001b[38;5;124mx and y can be no greater than 2D, but have \u001b[39m\u001b[38;5;124m\"\u001b[39m\n\u001b[1;32m    503\u001b[0m                      \u001b[38;5;124mf\u001b[39m\u001b[38;5;124m\"\u001b[39m\u001b[38;5;124mshapes \u001b[39m\u001b[38;5;132;01m{\u001b[39;00mx\u001b[38;5;241m.\u001b[39mshape\u001b[38;5;132;01m}\u001b[39;00m\u001b[38;5;124m and \u001b[39m\u001b[38;5;132;01m{\u001b[39;00my\u001b[38;5;241m.\u001b[39mshape\u001b[38;5;132;01m}\u001b[39;00m\u001b[38;5;124m\"\u001b[39m)\n",
      "\u001b[0;31mValueError\u001b[0m: x and y must have same first dimension, but have shapes (400,) and (1,)"
     ]
    },
    {
     "data": {
      "image/png": "[encoded data removed]",
      "text/plain": [
       "<Figure size 640x480 with 1 Axes>"
      ]
     },
     "metadata": {},
     "output_type": "display_data"
    }
   ],
   "source": [
    "import matplotlib.pyplot as plt\n",
    "plt.plot(kvec,pkval,color='r')\n",
    "plt.plot(kvec,derPalphaval[1].T[0],color='b')\n",
    "plt.plot(kvec,derPalphaval[1].T[30],color='g')\n",
    "plt.plot(kvec,derPalphaval[1].T[60],color='m')\n",
    "plt.plot(kvec,kaiser[:,30],color='k')\n",
    "#plt.plot(kvec,pksmoothval,color='b')\n",
    "#plt.plot(kvec,derPalpha)"
   ]
  },
  {
   "cell_type": "code",
   "execution_count": 1,
   "id": "5e74b10e",
   "metadata": {},
   "outputs": [
    {
     "ename": "NameError",
     "evalue": "name 'cosmo' is not defined",
     "output_type": "error",
     "traceback": [
      "\u001b[0;31m---------------------------------------------------------------------------\u001b[0m",
      "\u001b[0;31mNameError\u001b[0m                                 Traceback (most recent call last)",
      "Cell \u001b[0;32mIn[1], line 10\u001b[0m\n\u001b[1;32m      7\u001b[0m \u001b[38;5;28;01mfrom\u001b[39;00m \u001b[38;5;21;01mitertools\u001b[39;00m \u001b[38;5;28;01mimport\u001b[39;00m combinations_with_replacement\n\u001b[1;32m      9\u001b[0m muvec \u001b[38;5;241m=\u001b[39m np\u001b[38;5;241m.\u001b[39mlinspace(\u001b[38;5;241m0.0\u001b[39m, \u001b[38;5;241m1.0\u001b[39m, \u001b[38;5;241m100\u001b[39m)\n\u001b[0;32m---> 10\u001b[0m kvec \u001b[38;5;241m=\u001b[39m np\u001b[38;5;241m.\u001b[39mlinspace(cosmo\u001b[38;5;241m.\u001b[39mkmin, cosmo\u001b[38;5;241m.\u001b[39mkmax, \u001b[38;5;241m400\u001b[39m)\n\u001b[1;32m     11\u001b[0m pkval \u001b[38;5;241m=\u001b[39m splev(kvec, cosmo\u001b[38;5;241m.\u001b[39mpk[iz])\n\u001b[1;32m     12\u001b[0m pksmoothval \u001b[38;5;241m=\u001b[39m splev(kvec, cosmo\u001b[38;5;241m.\u001b[39mpksmooth[iz])\n",
      "\u001b[0;31mNameError\u001b[0m: name 'cosmo' is not defined"
     ]
    }
   ],
   "source": [
    "import numpy as np\n",
    "from findiff import FinDiff\n",
    "from scipy.integrate import simps\n",
    "from scipy.interpolate import splrep, splev\n",
    "from scipy.linalg.lapack import dgesv\n",
    "from scipy.integrate import quad\n",
    "from itertools import combinations_with_replacement\n",
    "\n",
    "muvec = np.linspace(0.0, 1.0, 100)\n",
    "kvec = np.linspace(cosmo.kmin, cosmo.kmax, 400)\n",
    "pkval = splev(kvec, cosmo.pk[iz])\n",
    "pksmoothval = splev(kvec, cosmo.pksmooth[iz])\n",
    "npop = np.shape(data.nbar)[0]\n",
    "npk = int(npop * (npop + 1) / 2)\n",
    "\n",
    "derPalpha = compute_deriv_alphas(cosmo,BAO_only=False)\n",
    "coords = [[kval, muval] for kval in kvec for muval in muvec]\n",
    "derPalphaval = [\n",
    "derPalpha[i](coords).reshape(len(kvec), len(muvec)) * (cosmo.sigma8[iz] / cosmo.sigma8[0]) ** 2\n",
    "for i in range(2)\n",
    "]\n",
    "kaiser = np.tile(data.bias[:, iz], (len(muvec), 1)).T + cosmo.f[iz] * muvec ** 2\n",
    "bder=np.zeros(len(kvec))\n",
    "fder=np.zeros(len(kvec))\n",
    "aperder=np.zeros(len(kvec))\n",
    "aparder=np.zeros(len(kvec))\n",
    "#muidx=57\n",
    "#muval=muvec[muidx]\n",
    "for j, muval in enumerate(muvec):\n",
    "    for i, kval in enumerate(kvec):\n",
    "        derP = compute_full_deriv_uu(\n",
    "            kval,\n",
    "            npop,\n",
    "            npk,\n",
    "            kaiser[:, j],\n",
    "            pkval[i],\n",
    "            pksmoothval[i],\n",
    "            muval,\n",
    "            [derPalphaval[0][i, j], derPalphaval[1][i, j]],\n",
    "            cosmo.f[iz],\n",
    "            cosmo.sigma8[iz],\n",
    "            False,\n",
    "        )\n",
    "        bder[i]=derP[0][0]\n",
    "        fder[i]=derP[1][0]\n",
    "        aperder[i]=derP[2][0]\n",
    "        aparder[i]=derP[3][0]\n",
    "        #print(derP[2][0], end=\" \")#,derP[3][0])\n",
    "        #if abs(derP[2][0])>1e5 or abs(derP[3][0])>1e5:\n",
    "        #    print('ohno',derP[2][0],derP[3][0])\n",
    "    #plt.plot(kvec,aperder, color='g',label='$\\\\alpha_\\\\perp$')\n",
    "    #plt.plot(kvec,aparder, color='m',label='$\\\\alpha_\\\\parallel$')\n",
    "    #plt.legend()\n",
    "    #plt.ylabel(\"$\\log\\left(\\\\frac{\\partial P_{uu}(k,\\mu)}{\\partial \\\\theta_i}\\\\right)$\",fontsize=15,labelpad=-5)\n",
    "    #plt.xlabel(\"k (h Mpc$^{-1}$)\")\n",
    "    #plt.title(\"Derivatives of $P_{{uu}}(k,\\mu)$ at $\\mu={:.2f}$\".format(muval))\n",
    "    #plt.show()\n",
    "    #path = '../../Data/Puu/Derivative graphs for Puu at mu={:.2f}.png'.format(muval)\n",
    "    #plt.savefig(path, dpi=300, bbox_inches='tight')\n",
    "    #plt.close()"
   ]
  },
  {
   "cell_type": "code",
   "execution_count": 4,
   "id": "b56a0e89",
   "metadata": {},
   "outputs": [
    {
     "name": "stderr",
     "output_type": "stream",
     "text": [
      "<>:7: SyntaxWarning: invalid escape sequence '\\l'\n",
      "<>:9: SyntaxWarning: invalid escape sequence '\\m'\n",
      "<>:7: SyntaxWarning: invalid escape sequence '\\l'\n",
      "<>:9: SyntaxWarning: invalid escape sequence '\\m'\n",
      "/tmp/ipykernel_871/1832664702.py:7: SyntaxWarning: invalid escape sequence '\\l'\n",
      "  plt.ylabel(\"$\\ln\\left(\\\\frac{\\partial P_{uu}(k,\\mu)}{\\partial \\\\theta_i}\\\\right)$\",fontsize=15,labelpad=-5)\n",
      "/tmp/ipykernel_871/1832664702.py:9: SyntaxWarning: invalid escape sequence '\\m'\n",
      "  plt.title(\"Derivatives of $P_{{uu}}(k,\\mu)$ at $\\mu={:.2f}$\".format(muval))\n"
     ]
    },
    {
     "data": {
      "image/png": "[encoded data removed]",
      "text/plain": [
       "<Figure size 640x480 with 1 Axes>"
      ]
     },
     "metadata": {},
     "output_type": "display_data"
    }
   ],
   "source": [
    "import matplotlib.pyplot as plt\n",
    "plt.plot(kvec,bder, color='r',label='b$\\\\sigma_8$')\n",
    "plt.plot(kvec,fder, color='b',label='f$\\\\sigma_8$')\n",
    "plt.plot(kvec,aperder, color='g',label='$\\\\alpha_\\\\perp$')\n",
    "plt.plot(kvec,aparder, color='m',label='$\\\\alpha_\\\\parallel$')\n",
    "plt.legend()\n",
    "plt.ylabel(\"$\\ln\\left(\\\\frac{\\partial P_{uu}(k,\\mu)}{\\partial \\\\theta_i}\\\\right)$\",fontsize=15,labelpad=-5)\n",
    "plt.xlabel(\"k (h Mpc$^{-1}$)\")\n",
    "plt.title(\"Derivatives of $P_{{uu}}(k,\\mu)$ at $\\mu={:.2f}$\".format(muval))\n",
    "plt.show()\n",
    "#path = '../Figures/Derivative graphs for Pgg at mu={:.2f}.png'.format(muval)\n",
    "#plt.savefig(path, dpi=300, bbox_inches='tight')\n",
    "#plt.close()"
   ]
  },
  {
   "cell_type": "code",
   "execution_count": null,
   "id": "22cc96a3",
   "metadata": {},
   "outputs": [
    {
     "name": "stdout",
     "output_type": "stream",
     "text": [
      "[69.01358329] [0.05]\n"
     ]
    }
   ],
   "source": [
    "print(cosmo.h,cosmo.z) #1/1+z * h = constval"
   ]
  },
  {
   "cell_type": "code",
   "execution_count": 46,
   "id": "e2891088",
   "metadata": {},
   "outputs": [
    {
     "name": "stdout",
     "output_type": "stream",
     "text": [
      "[[  0.        ]\n",
      " [556.7923223 ]\n",
      " [266.18002998]\n",
      " [198.62991275]]\n"
     ]
    }
   ],
   "source": [
    "print(derP)"
   ]
  },
  {
   "cell_type": "code",
   "execution_count": 55,
   "id": "10de68ad",
   "metadata": {},
   "outputs": [],
   "source": [
    "from PIL import Image, ImageDraw\n",
    "folder_path = \"../../Data/Puu\"\n",
    "output_folder = \"../Figures\"\n",
    "output_gif = os.path.join(output_folder, \"Derivatives of Puu alphas.gif\")\n",
    "image_files = [os.path.join(folder_path, file) for file in os.listdir(folder_path) if file.endswith(('.png', '.jpg', '.jpeg'))]\n",
    "image_files.sort()\n",
    "images = [Image.open(img) for img in image_files]\n",
    "images[0].save(output_gif, save_all=True, append_images=images[1:], duration=100, loop=0)"
   ]
  },
  {
   "cell_type": "code",
   "execution_count": 16,
   "id": "83ab4031",
   "metadata": {},
   "outputs": [
    {
     "name": "stdout",
     "output_type": "stream",
     "text": [
      "[7.12487724e+11 1.29565519e+11 4.94008416e+10 2.47537465e+10\n",
      " 1.43272215e+10 9.06875392e+09 6.10084539e+09 4.29028069e+09\n",
      " 3.12008640e+09 2.32954459e+09 1.77646348e+09 1.37837572e+09\n",
      " 1.08506873e+09 8.64693599e+08 6.96351283e+08 5.65924391e+08\n",
      " 4.63632635e+08 3.82552650e+08 3.17687327e+08 2.65368781e+08\n",
      " 2.22864446e+08 1.88109903e+08 1.59526931e+08 1.35896945e+08\n",
      " 1.16266099e+08 9.98887314e+07 8.61675474e+07 7.46285120e+07\n",
      " 6.48895034e+07 5.66390346e+07 4.96282361e+07 4.36529847e+07\n",
      " 3.85447673e+07 3.41621162e+07 3.03882691e+07 2.71251730e+07\n",
      " 2.42956590e+07 2.18362305e+07 1.96950779e+07 1.78279425e+07\n",
      " 1.61916578e+07 1.47507696e+07 1.34762793e+07 1.23442255e+07\n",
      " 1.13347721e+07 1.04315725e+07 9.62096644e+06 8.89071026e+06\n",
      " 8.23065738e+06 7.63268400e+06 7.08914214e+06 6.59333064e+06\n",
      " 6.13996643e+06 5.72445072e+06 5.34226954e+06 4.98955719e+06\n",
      " 4.66271070e+06 4.35914376e+06 4.07672544e+06 3.81325556e+06\n",
      " 3.56691514e+06 3.33658141e+06 3.12111738e+06 2.91901997e+06\n",
      " 2.72967297e+06 2.55237397e+06 2.38640564e+06 2.23101387e+06\n",
      " 2.08576727e+06 1.95013005e+06 1.82339154e+06 1.70514829e+06\n",
      " 1.59495379e+06 1.49220723e+06 1.39640746e+06 1.30720801e+06\n",
      " 1.22424941e+06 1.14713176e+06 1.07545245e+06 1.00887258e+06\n",
      " 9.47062299e+05 8.89753450e+05 8.36813561e+05 7.87918151e+05\n",
      " 7.42717306e+05 7.00912970e+05 6.62455092e+05 6.27165451e+05\n",
      " 5.94695193e+05 5.64750556e+05 5.37182020e+05 5.11871915e+05\n",
      " 4.88608606e+05 4.67135998e+05 4.47270259e+05 4.28900800e+05\n",
      " 4.11886933e+05 3.96047824e+05 3.81271369e+05 3.67424726e+05\n",
      " 3.54377146e+05 3.42076973e+05 3.30423397e+05 3.19313663e+05\n",
      " 3.08647409e+05 2.98387894e+05 2.88508836e+05 2.78952960e+05\n",
      " 2.69627421e+05 2.60530734e+05 2.51655368e+05 2.42996025e+05\n",
      " 2.34497585e+05 2.26143232e+05 2.17969202e+05 2.09954606e+05\n",
      " 2.02096275e+05 1.94362912e+05 1.86768021e+05 1.79353559e+05\n",
      " 1.72090571e+05 1.64958278e+05 1.57988723e+05 1.51186699e+05\n",
      " 1.44564525e+05 1.38145728e+05 1.31935706e+05 1.25924235e+05\n",
      " 1.20134211e+05 1.14601522e+05 1.09342700e+05 1.04345244e+05\n",
      " 9.95967738e+04 9.51143647e+04 9.09198368e+04 8.69978561e+04\n",
      " 8.33335802e+04 7.99078478e+04 7.67234110e+04 7.37675689e+04\n",
      " 7.10202554e+04 6.84658686e+04 6.61056572e+04 6.39263762e+04\n",
      " 6.19097502e+04 6.00429627e+04 5.83196648e+04 5.67344778e+04\n",
      " 5.52764796e+04 5.39342966e+04 5.26959690e+04 5.15492233e+04\n",
      " 5.04845053e+04 4.94959598e+04 4.85708196e+04 4.76836067e+04\n",
      " 4.68203678e+04 4.59800487e+04 4.51587798e+04 4.43387768e+04\n",
      " 4.35042475e+04 4.26561987e+04 4.17976663e+04 4.09245255e+04\n",
      " 4.00289916e+04 3.91118446e+04 3.81787661e+04 3.72321019e+04\n",
      " 3.62701826e+04 3.52922028e+04 3.43055343e+04 3.33136741e+04\n",
      " 3.23180556e+04 3.13206603e+04 3.03245993e+04 2.93332031e+04\n",
      " 2.83506851e+04 2.73810796e+04 2.64266125e+04 2.54883119e+04\n",
      " 2.45694086e+04 2.36773416e+04 2.28160442e+04 2.19830875e+04\n",
      " 2.11805911e+04 2.04131403e+04 1.96833117e+04 1.89902112e+04\n",
      " 1.83309728e+04 1.77112818e+04 1.71311738e+04 1.65879684e+04\n",
      " 1.60795787e+04 1.56052166e+04 1.51654423e+04 1.47647395e+04\n",
      " 1.43965809e+04 1.40582537e+04 1.37484839e+04 1.34659525e+04\n",
      " 1.32114631e+04 1.29830834e+04 1.27735098e+04 1.25800852e+04\n",
      " 1.24008493e+04 1.22372661e+04 1.20830192e+04 1.19329330e+04\n",
      " 1.17856414e+04 1.16409104e+04 1.14962808e+04 1.13486967e+04\n",
      " 1.11976391e+04 1.10428465e+04 1.08816744e+04 1.07158901e+04\n",
      " 1.05456185e+04 1.03706845e+04 1.01881780e+04 1.00018791e+04\n",
      " 9.81197935e+03 9.61709404e+03 9.41651872e+03 9.21344004e+03\n",
      " 9.00805293e+03 8.79679661e+03 8.58283249e+03 8.36795194e+03\n",
      " 8.15145059e+03 7.93290535e+03 7.71520831e+03 7.49854631e+03\n",
      " 7.28246244e+03 7.07093164e+03 6.86388031e+03 6.66085505e+03\n",
      " 6.46407346e+03 6.27371703e+03 6.09241671e+03 5.91908987e+03\n",
      " 5.75289128e+03 5.59614291e+03 5.44899873e+03 5.30932212e+03\n",
      " 5.17931816e+03 5.05768758e+03 4.94258232e+03 4.83694835e+03\n",
      " 4.73814450e+03 4.64481357e+03 4.56002868e+03 4.48024517e+03\n",
      " 4.40536306e+03 4.33741937e+03 4.27299241e+03 4.21303059e+03\n",
      " 4.15768078e+03 4.10499543e+03 4.05604181e+03 4.00913590e+03\n",
      " 3.96397860e+03 3.92105466e+03 3.87882785e+03 3.83701815e+03\n",
      " 3.79486489e+03 3.75288820e+03 3.70943399e+03 3.66527170e+03\n",
      " 3.61942672e+03 3.57141477e+03 3.52293577e+03 3.47091581e+03\n",
      " 3.41819562e+03 3.36320199e+03 3.30638201e+03 3.24905103e+03\n",
      " 3.18916514e+03 3.12942631e+03 3.06804722e+03 3.00658414e+03\n",
      " 2.94492702e+03 2.88306265e+03 2.82189748e+03 2.76048266e+03\n",
      " 2.70007773e+03 2.64030096e+03 2.58151707e+03 2.52366500e+03\n",
      " 2.46706951e+03 2.41162638e+03 2.35779374e+03 2.30511769e+03\n",
      " 2.25443620e+03 2.20509266e+03 2.15796289e+03 2.11247349e+03\n",
      " 2.06896312e+03 2.02761589e+03 1.98809158e+03 1.95115754e+03\n",
      " 1.91566386e+03 1.88301258e+03 1.85135590e+03 1.82284686e+03\n",
      " 1.79510217e+03 1.76995538e+03 1.74556700e+03 1.72315488e+03\n",
      " 1.70150175e+03 1.68128653e+03 1.66167572e+03 1.64291510e+03\n",
      " 1.62461902e+03 1.60685468e+03 1.58931815e+03 1.57199161e+03\n",
      " 1.55470271e+03 1.53744249e+03 1.52007246e+03 1.50262310e+03\n",
      " 1.48493033e+03 1.46706507e+03 1.44893247e+03 1.43061231e+03\n",
      " 1.41200328e+03 1.39316841e+03 1.37408808e+03 1.35477410e+03\n",
      " 1.33526330e+03 1.31549039e+03 1.29560656e+03 1.27545201e+03\n",
      " 1.25527010e+03 1.23479009e+03 1.21440386e+03 1.19376625e+03\n",
      " 1.17332999e+03 1.15272248e+03 1.13240259e+03 1.11209583e+03\n",
      " 1.09210327e+03 1.07244509e+03 1.05308915e+03 1.03430484e+03\n",
      " 1.01585098e+03 9.98137297e+02 9.80867395e+02 9.64304015e+02\n",
      " 9.48323962e+02 9.32918450e+02 9.18233848e+02 9.03943595e+02\n",
      " 8.90467543e+02 8.77210994e+02 8.64759159e+02 8.52490173e+02\n",
      " 8.40852351e+02 8.29479049e+02 8.18563812e+02 8.07996405e+02\n",
      " 7.97750886e+02 7.87937438e+02 7.78322300e+02 7.69247665e+02\n",
      " 7.60303099e+02 7.51801565e+02 7.43471737e+02 7.35411278e+02\n",
      " 7.27571566e+02 7.19851451e+02 7.12260713e+02 7.04777063e+02\n",
      " 6.97196236e+02 6.89719665e+02 6.82099406e+02 6.74464340e+02\n",
      " 6.66770051e+02 6.58860205e+02 6.51059218e+02 6.42918533e+02\n",
      " 6.34884259e+02 6.26719858e+02 6.18524427e+02 6.10378160e+02\n",
      " 6.02158083e+02 5.94047963e+02 5.85924925e+02 5.77889759e+02\n",
      " 5.69923296e+02 5.62016204e+02 5.54211672e+02 5.46462494e+02\n",
      " 5.38814462e+02 5.31245427e+02 5.23760412e+02 5.16371838e+02\n",
      " 5.09076636e+02 5.01875090e+02 4.94799024e+02 4.87829515e+02] [-7.13428727e+11 -1.29921598e+11 -4.95933089e+10 -2.48720330e+10\n",
      " -1.44046980e+10 -9.12110315e+09 -6.13675897e+09 -4.31489882e+09\n",
      " -3.13666951e+09 -2.34028985e+09 -1.78289491e+09 -1.38158979e+09\n",
      " -1.08587446e+09 -8.63701328e+08 -6.94029234e+08 -5.62635939e+08\n",
      " -4.59663815e+08 -3.78127908e+08 -3.12986030e+08 -2.60531082e+08\n",
      " -2.18002672e+08 -1.83309053e+08 -1.54855292e+08 -1.31401856e+08\n",
      " -1.11987014e+08 -9.58483311e+07 -8.23817090e+07 -7.11052645e+07\n",
      " -6.16283563e+07 -5.36402458e+07 -4.68867610e+07 -4.11579492e+07\n",
      " -3.62792344e+07 -3.21082977e+07 -2.85291213e+07 -2.54504581e+07\n",
      " -2.27967525e+07 -2.05034878e+07 -1.85138427e+07 -1.67746786e+07\n",
      " -1.52463184e+07 -1.38967831e+07 -1.26997913e+07 -1.16336661e+07\n",
      " -1.06803744e+07 -9.82456866e+06 -9.05274570e+06 -8.35416310e+06\n",
      " -7.71965602e+06 -7.14068481e+06 -6.61034465e+06 -6.12307152e+06\n",
      " -5.67370708e+06 -5.25755285e+06 -4.87116039e+06 -4.51170401e+06\n",
      " -4.17730278e+06 -3.86603841e+06 -3.57611792e+06 -3.30636279e+06\n",
      " -3.05588129e+06 -2.82337218e+06 -2.60771544e+06 -2.40849264e+06\n",
      " -2.22464174e+06 -2.05520302e+06 -1.89929315e+06 -1.75620994e+06\n",
      " -1.62495769e+06 -1.50466534e+06 -1.39472389e+06 -1.29428599e+06\n",
      " -1.20257584e+06 -1.11903640e+06 -1.04311640e+06 -9.74149333e+05\n",
      " -9.11516903e+05 -8.54687178e+05 -8.03195053e+05 -7.56564641e+05\n",
      " -7.14357778e+05 -6.76121197e+05 -6.41273257e+05 -6.09445208e+05\n",
      " -5.80359509e+05 -5.53747640e+05 -5.29116981e+05 -5.06093433e+05\n",
      " -4.84532727e+05 -4.64296054e+05 -4.45144658e+05 -4.26815384e+05\n",
      " -4.09175245e+05 -3.92181456e+05 -3.75757605e+05 -3.59779091e+05\n",
      " -3.44175885e+05 -3.28946394e+05 -3.14044954e+05 -2.99470650e+05\n",
      " -2.85242897e+05 -2.71317326e+05 -2.57711672e+05 -2.44459880e+05\n",
      " -2.31614473e+05 -2.19173096e+05 -2.07127034e+05 -1.95503182e+05\n",
      " -1.84377046e+05 -1.73739396e+05 -1.63585965e+05 -1.53909257e+05\n",
      " -1.44756021e+05 -1.36139747e+05 -1.28018099e+05 -1.20402866e+05\n",
      " -1.13288133e+05 -1.06700926e+05 -1.00621251e+05 -9.49969592e+04\n",
      " -8.98444596e+04 -8.51750057e+04 -8.09464589e+04 -7.71407246e+04\n",
      " -7.37296568e+04 -7.06720729e+04 -6.79436228e+04 -6.55345543e+04\n",
      " -6.34014154e+04 -6.14853370e+04 -5.97425864e+04 -5.81589825e+04\n",
      " -5.67219413e+04 -5.53899227e+04 -5.41135484e+04 -5.28807716e+04\n",
      " -5.16817189e+04 -5.05129690e+04 -4.93495644e+04 -4.81824813e+04\n",
      " -4.70122339e+04 -4.58368102e+04 -4.46385654e+04 -4.34149840e+04\n",
      " -4.21700752e+04 -4.09038772e+04 -3.96110635e+04 -3.82858485e+04\n",
      " -3.69288940e+04 -3.55424768e+04 -3.41304842e+04 -3.26982518e+04\n",
      " -3.12493400e+04 -2.97843304e+04 -2.83113824e+04 -2.68527153e+04\n",
      " -2.54207072e+04 -2.40151101e+04 -2.26386226e+04 -2.13084208e+04\n",
      " -2.00411700e+04 -1.88369455e+04 -1.76935006e+04 -1.66156469e+04\n",
      " -1.56123077e+04 -1.46839994e+04 -1.38259408e+04 -1.30363771e+04\n",
      " -1.23174954e+04 -1.16706272e+04 -1.10886218e+04 -1.05679150e+04\n",
      " -1.01068164e+04 -9.70300419e+03 -9.35284565e+03 -9.05229960e+03\n",
      " -8.79624666e+03 -8.57949405e+03 -8.39848173e+03 -8.25081777e+03\n",
      " -8.13182840e+03 -8.03234349e+03 -7.94641010e+03 -7.87450214e+03\n",
      " -7.81266413e+03 -7.75431190e+03 -7.69466790e+03 -7.63245051e+03\n",
      " -7.56853503e+03 -7.49532236e+03 -7.41071651e+03 -7.31539883e+03\n",
      " -7.20962125e+03 -7.09245743e+03 -6.96165078e+03 -6.81101829e+03\n",
      " -6.64554127e+03 -6.46652446e+03 -6.27391530e+03 -6.06778321e+03\n",
      " -5.84617252e+03 -5.60997172e+03 -5.36557587e+03 -5.11491061e+03\n",
      " -4.85932440e+03 -4.59678703e+03 -4.33311825e+03 -4.07322925e+03\n",
      " -3.81834306e+03 -3.56856761e+03 -3.32623918e+03 -3.09439940e+03\n",
      " -2.87364358e+03 -2.66432457e+03 -2.46914215e+03 -2.28639048e+03\n",
      " -2.11603832e+03 -1.95835258e+03 -1.81630045e+03 -1.68613796e+03\n",
      " -1.56771758e+03 -1.46246354e+03 -1.37109147e+03 -1.29040052e+03\n",
      " -1.22018210e+03 -1.16398426e+03 -1.11861028e+03 -1.08221370e+03\n",
      " -1.05542134e+03 -1.03855336e+03 -1.02859825e+03 -1.02524343e+03\n",
      " -1.02880074e+03 -1.03508388e+03 -1.04393750e+03 -1.05558804e+03\n",
      " -1.06759796e+03 -1.07951433e+03 -1.08840414e+03 -1.09506009e+03\n",
      " -1.10005449e+03 -1.10079054e+03 -1.09681787e+03 -1.08999237e+03\n",
      " -1.07784557e+03 -1.06142966e+03 -1.04235391e+03 -1.01744358e+03\n",
      " -9.89129112e+02 -9.58571651e+02 -9.22515076e+02 -8.84336764e+02\n",
      " -8.43979712e+02 -7.99260572e+02 -7.53471143e+02 -7.05544541e+02\n",
      " -6.55226479e+02 -6.04363545e+02 -5.51798820e+02 -4.99148259e+02\n",
      " -4.46649011e+02 -3.93758899e+02 -3.41965647e+02 -2.91515870e+02\n",
      " -2.43156219e+02 -1.96348174e+02 -1.52728552e+02 -1.11525028e+02\n",
      " -7.37162394e+01 -3.97944169e+01 -8.06228889e+00  1.84041870e+01\n",
      "  4.24390778e+01  6.24632571e+01  7.89224966e+01  9.31356932e+01\n",
      "  1.03065751e+02  1.11426862e+02  1.16445401e+02  1.19694222e+02\n",
      "  1.21086058e+02  1.20636820e+02  1.19282408e+02  1.16103877e+02\n",
      "  1.12395328e+02  1.07811333e+02  1.02755464e+02  9.72048410e+01\n",
      "  9.15219153e+01  8.56438411e+01  8.00718399e+01  7.43921961e+01\n",
      "  6.94829986e+01  6.47312877e+01  6.10566709e+01  5.79282937e+01\n",
      "  5.57268373e+01  5.46779666e+01  5.44839033e+01  5.59549909e+01\n",
      "  5.79809765e+01  6.20019606e+01  6.62069548e+01  7.27854313e+01\n",
      "  7.93875037e+01  8.78786294e+01  9.64465798e+01  1.06335287e+02\n",
      "  1.16351574e+02  1.27196481e+02  1.38055023e+02  1.49189587e+02\n",
      "  1.60228645e+02  1.71252532e+02  1.81969327e+02  1.92371021e+02\n",
      "  2.02292751e+02  2.11733136e+02  2.20561361e+02  2.28814082e+02\n",
      "  2.36332019e+02  2.43191314e+02  2.49302597e+02  2.54750690e+02\n",
      "  2.59438842e+02  2.63434983e+02  2.66724582e+02  2.69324556e+02\n",
      "  2.71276790e+02  2.72521197e+02  2.73214392e+02  2.73202093e+02\n",
      "  2.72733446e+02  2.71543447e+02  2.70029896e+02  2.67853794e+02\n",
      "  2.65474869e+02  2.62527421e+02  2.59477487e+02  2.56057898e+02\n",
      "  2.52578211e+02  2.49067192e+02  2.45501682e+02  2.42160150e+02\n",
      "  2.38810902e+02  2.35873381e+02  2.33061034e+02  2.30646596e+02\n",
      "  2.28516453e+02  2.26671099e+02  2.25266041e+02  2.23983611e+02\n",
      "  2.23252242e+02  2.22484956e+02  2.22274564e+02  2.22006100e+02\n",
      "  2.22134714e+02  2.22300099e+02  2.22702005e+02  2.23236045e+02\n",
      "  2.23881888e+02  2.24755195e+02  2.25627466e+02  2.26846116e+02\n",
      "  2.28005631e+02  2.29423839e+02  2.30833695e+02  2.32336979e+02\n",
      "  2.33889006e+02  2.35392416e+02  2.36860338e+02  2.38273135e+02\n",
      "  2.39429038e+02  2.40531965e+02  2.41336284e+02  2.41972857e+02\n",
      "  2.42398969e+02  2.42460012e+02  2.42482296e+02  2.42019014e+02\n",
      "  2.41518239e+02  2.40745271e+02  2.39801250e+02  2.38768493e+02\n",
      "  2.37526188e+02  2.36260495e+02  2.34850864e+02  2.33400487e+02\n",
      "  2.31892560e+02  2.30320127e+02  2.28728784e+02  2.27073667e+02\n",
      "  2.25402899e+02  2.23696604e+02  2.21962054e+02  2.20213895e+02\n",
      "  2.18451249e+02  2.16676603e+02  2.14923956e+02  2.13176555e+02]\n"
     ]
    }
   ],
   "source": [
    "print(aparder,aperder)"
   ]
  },
  {
   "cell_type": "code",
   "execution_count": null,
   "id": "5e822695",
   "metadata": {},
   "outputs": [
    {
     "name": "stderr",
     "output_type": "stream",
     "text": [
      "<>:45: SyntaxWarning: invalid escape sequence '\\p'\n",
      "<>:47: SyntaxWarning: invalid escape sequence '\\m'\n",
      "<>:45: SyntaxWarning: invalid escape sequence '\\p'\n",
      "<>:47: SyntaxWarning: invalid escape sequence '\\m'\n",
      "/tmp/ipykernel_6531/1146976559.py:45: SyntaxWarning: invalid escape sequence '\\p'\n",
      "  plt.ylabel(\"$\\\\frac{\\partial P_{gu}(k,\\mu)}{\\partial \\\\theta_i}$\",fontsize=15,labelpad=-5)\n",
      "/tmp/ipykernel_6531/1146976559.py:47: SyntaxWarning: invalid escape sequence '\\m'\n",
      "  plt.title(\"Derivatives of $P_{{gu}}(k,\\mu)$ at $\\mu={:.2f}$\".format(muval))\n"
     ]
    }
   ],
   "source": [
    "muvec = np.linspace(0.0, 1.0, 100)\n",
    "kvec = np.linspace(cosmo.kmin, cosmo.kmax, 400)\n",
    "pkval = splev(kvec, cosmo.pk[iz])\n",
    "pksmoothval = splev(kvec, cosmo.pksmooth[iz])\n",
    "npop = np.shape(data.nbar)[0]\n",
    "npk = int(npop * (npop + 1) / 2)\n",
    "\n",
    "bslay=data.bias[0][0]\n",
    "#\n",
    "derPalpha = compute_deriv_alphas_gu(cosmo,bslay,cosmo.f[iz],BAO_only=False)\n",
    "coords = [[kval, muval] for kval in kvec for muval in muvec]\n",
    "derPalphaval = [\n",
    "derPalpha[i](coords).reshape(len(kvec), len(muvec)) * (cosmo.sigma8[iz] / cosmo.sigma8[0]) ** 2\n",
    "for i in range(2)\n",
    "]\n",
    "kaiser = np.tile(data.bias[:, iz], (len(muvec), 1)).T + cosmo.f[iz] * muvec ** 2\n",
    "bder=np.zeros(len(kvec))\n",
    "fder=np.zeros(len(kvec))\n",
    "aperder=np.zeros(len(kvec))\n",
    "aparder=np.zeros(len(kvec))\n",
    "\n",
    "for j, muval in enumerate(muvec):\n",
    "    for i, kval in enumerate(kvec):\n",
    "        derP = compute_full_deriv_gu(\n",
    "            kval,\n",
    "            npop,\n",
    "            npk,\n",
    "            kaiser[:, muidx],\n",
    "            pkval[i],\n",
    "            pksmoothval[i],\n",
    "            muval,\n",
    "            [derPalphaval[0][i, muidx], derPalphaval[1][i, muidx]],\n",
    "            cosmo.f[iz],\n",
    "            cosmo.sigma8[iz],\n",
    "            False,\n",
    "        )\n",
    "        bder[i]=derP[0][0]\n",
    "        fder[i]=derP[1][0]\n",
    "        aperder[i]=derP[2][0]\n",
    "        aparder[i]=derP[3][0]\n",
    "    plt.plot(kvec,bder, color='r',label='b$\\\\sigma_8$')\n",
    "    plt.plot(kvec,fder, color='b',label='f$\\\\sigma_8$')\n",
    "    plt.plot(kvec,aperder, color='g',label='$\\\\alpha_\\\\perp$')\n",
    "    plt.plot(kvec,aparder, color='m',label='$\\\\alpha_\\\\parallel$')\n",
    "    plt.legend()\n",
    "    plt.ylabel(\"$\\\\frac{\\partial P_{gu}(k,\\mu)}{\\partial \\\\theta_i}$\",fontsize=15,labelpad=-5)\n",
    "    plt.xlabel(\"k (h Mpc$^{-1}$)\")\n",
    "    plt.title(\"Derivatives of $P_{{gu}}(k,\\mu)$ at $\\mu={:.2f}$\".format(muval))\n",
    "    plt.show()\n",
    "    #path = '../../Data/Pgu/Derivative graphs for Pgu at mu={:.2f}.png'.format(muval)\n",
    "    #plt.savefig(path, dpi=300, bbox_inches='tight')\n",
    "    #plt.close()"
   ]
  },
  {
   "cell_type": "code",
   "execution_count": 81,
   "id": "1a4e17d2",
   "metadata": {},
   "outputs": [],
   "source": [
    "from PIL import Image, ImageDraw\n",
    "folder_path = \"../../Data/Puu\"\n",
    "output_folder = \"../Figures\"\n",
    "output_gif = os.path.join(output_folder, \"Derivatives of Puu timelapse.gif\")\n",
    "image_files = [os.path.join(folder_path, file) for file in os.listdir(folder_path) if file.endswith(('.png', '.jpg', '.jpeg'))]\n",
    "image_files.sort()\n",
    "images = [Image.open(img) for img in image_files]\n",
    "images[0].save(output_gif, save_all=True, append_images=images[1:], duration=100, loop=0)"
   ]
  },
  {
   "cell_type": "code",
   "execution_count": 31,
   "id": "bd6a64e9",
   "metadata": {},
   "outputs": [
    {
     "name": "stderr",
     "output_type": "stream",
     "text": [
      "/root/enidh/code/capstone/Capstone-Project/ioutils.py:38: FutureWarning: The 'delim_whitespace' keyword in pd.read_csv is deprecated and will be removed in a future version. Use ``sep='\\s+'`` instead\n",
      "  df = pd.read_csv(\n"
     ]
    },
    {
     "name": "stdout",
     "output_type": "stream",
     "text": [
      "#  Data nbar\n",
      "[[4.58078376e-02]\n",
      " [3.93200323e-05]]\n",
      "#  Data bias\n",
      "[[1.37583381]]\n",
      "#  Data recon factor\n",
      "[0.5]\n",
      "#  z  V(Gpc/h)^3  fsigma8  fsigma8_err(%)  Da(Mpc/h)  Da_err(%)  H(km/s/Mpc)  H_err(%)   alpha_err(%)\n",
      "slay\n"
     ]
    },
    {
     "ename": "ValueError",
     "evalue": "could not broadcast input array from shape (99,) into shape (1,)",
     "output_type": "error",
     "traceback": [
      "\u001b[0;31m---------------------------------------------------------------------------\u001b[0m",
      "\u001b[0;31mValueError\u001b[0m                                Traceback (most recent call last)",
      "Cell \u001b[0;32mIn[31], line 53\u001b[0m\n\u001b[1;32m     49\u001b[0m \u001b[38;5;28;01mfor\u001b[39;00m iz \u001b[38;5;129;01min\u001b[39;00m \u001b[38;5;28mrange\u001b[39m(\u001b[38;5;28mlen\u001b[39m(cosmo\u001b[38;5;241m.\u001b[39mz)):\n\u001b[1;32m     51\u001b[0m     \u001b[38;5;28;01mif\u001b[39;00m np\u001b[38;5;241m.\u001b[39many(data\u001b[38;5;241m.\u001b[39mnz[:, iz] \u001b[38;5;241m>\u001b[39m \u001b[38;5;241m1.0e-30\u001b[39m):\n\u001b[0;32m---> 53\u001b[0m         Catch \u001b[38;5;241m=\u001b[39m Fish(\n\u001b[1;32m     54\u001b[0m             cosmo,\n\u001b[1;32m     55\u001b[0m             cosmo\u001b[38;5;241m.\u001b[39mkmin,\n\u001b[1;32m     56\u001b[0m             cosmo\u001b[38;5;241m.\u001b[39mkmax,\n\u001b[1;32m     57\u001b[0m             data,\n\u001b[1;32m     58\u001b[0m             iz,\n\u001b[1;32m     59\u001b[0m             recon[iz],\n\u001b[1;32m     60\u001b[0m             derPalpha,\n\u001b[1;32m     61\u001b[0m             pardict\u001b[38;5;241m.\u001b[39mas_bool(\u001b[38;5;124m\"\u001b[39m\u001b[38;5;124mBAO_only\u001b[39m\u001b[38;5;124m\"\u001b[39m),\n\u001b[1;32m     62\u001b[0m             pardict\u001b[38;5;241m.\u001b[39mas_bool(\u001b[38;5;124m\"\u001b[39m\u001b[38;5;124mGoFast\u001b[39m\u001b[38;5;124m\"\u001b[39m),\n\u001b[1;32m     63\u001b[0m         )\n\u001b[1;32m     64\u001b[0m         \u001b[38;5;66;03m# print(Catch)\u001b[39;00m\n\u001b[1;32m     65\u001b[0m \n\u001b[1;32m     66\u001b[0m         \u001b[38;5;66;03m# Add on BAO only information from kmax to k = 0.5 Mpc/h but only for alpha_perp and alpha_par\u001b[39;00m\n\u001b[1;32m     67\u001b[0m         ExtraCatch \u001b[38;5;241m=\u001b[39m Fish(\n\u001b[1;32m     68\u001b[0m             cosmo,\n\u001b[1;32m     69\u001b[0m             cosmo\u001b[38;5;241m.\u001b[39mkmax,\n\u001b[0;32m   (...)\u001b[0m\n\u001b[1;32m     76\u001b[0m             pardict\u001b[38;5;241m.\u001b[39mas_bool(\u001b[38;5;124m\"\u001b[39m\u001b[38;5;124mGoFast\u001b[39m\u001b[38;5;124m\"\u001b[39m),\n\u001b[1;32m     77\u001b[0m         )\n",
      "File \u001b[0;32m~/enidh/code/capstone/Capstone-Project/TackleBox.py:147\u001b[0m, in \u001b[0;36mFish\u001b[0;34m(cosmo, kmin, kmax, data, iz, recon, derPalpha, BAO_only, GoFast)\u001b[0m\n\u001b[1;32m    143\u001b[0m     kvec \u001b[38;5;241m=\u001b[39m np\u001b[38;5;241m.\u001b[39mlinspace(kmin, kmax, \u001b[38;5;241m400\u001b[39m)\n\u001b[1;32m    144\u001b[0m     \u001b[38;5;66;03m# 2D integration\u001b[39;00m\n\u001b[1;32m    145\u001b[0m     ManyFish \u001b[38;5;241m=\u001b[39m simps(\n\u001b[1;32m    146\u001b[0m         simps(\n\u001b[0;32m--> 147\u001b[0m             CastNet(muvec, kvec, iz, npop, npk, data, cosmo, recon, derPalpha, BAO_only), x\u001b[38;5;241m=\u001b[39mmuvec, axis\u001b[38;5;241m=\u001b[39m\u001b[38;5;241m-\u001b[39m\u001b[38;5;241m1\u001b[39m\n\u001b[1;32m    148\u001b[0m         ),\n\u001b[1;32m    149\u001b[0m         x\u001b[38;5;241m=\u001b[39mkvec,\n\u001b[1;32m    150\u001b[0m         axis\u001b[38;5;241m=\u001b[39m\u001b[38;5;241m-\u001b[39m\u001b[38;5;241m1\u001b[39m,\n\u001b[1;32m    151\u001b[0m     )\n\u001b[1;32m    153\u001b[0m \u001b[38;5;28;01melse\u001b[39;00m:\n\u001b[1;32m    154\u001b[0m     \u001b[38;5;66;03m# Integral over mu\u001b[39;00m\n\u001b[1;32m    155\u001b[0m     OneFish \u001b[38;5;241m=\u001b[39m \u001b[38;5;28;01mlambda\u001b[39;00m \u001b[38;5;241m*\u001b[39margs: quad(CastNet, \u001b[38;5;241m0.0\u001b[39m, \u001b[38;5;241m1.0\u001b[39m, args\u001b[38;5;241m=\u001b[39margs, limit\u001b[38;5;241m=\u001b[39m\u001b[38;5;241m10000\u001b[39m, epsabs\u001b[38;5;241m=\u001b[39m\u001b[38;5;241m1.0e-6\u001b[39m, epsrel\u001b[38;5;241m=\u001b[39m\u001b[38;5;241m1.0e-6\u001b[39m)[\n\u001b[1;32m    156\u001b[0m         \u001b[38;5;241m0\u001b[39m\n\u001b[1;32m    157\u001b[0m     ]\n",
      "File \u001b[0;32m~/enidh/code/capstone/Capstone-Project/TackleBox.py:249\u001b[0m, in \u001b[0;36mCastNet\u001b[0;34m(mu, k, iz, npop, npk, data, cosmo, recon, derPalpha, BAO_only)\u001b[0m\n\u001b[1;32m    246\u001b[0m \u001b[38;5;28;01mfor\u001b[39;00m i, kval \u001b[38;5;129;01min\u001b[39;00m \u001b[38;5;28menumerate\u001b[39m(k):\n\u001b[1;32m    247\u001b[0m     \u001b[38;5;28;01mfor\u001b[39;00m j, muval \u001b[38;5;129;01min\u001b[39;00m \u001b[38;5;28menumerate\u001b[39m(mu):\n\u001b[1;32m    248\u001b[0m         \u001b[38;5;66;03m#print()\u001b[39;00m\n\u001b[0;32m--> 249\u001b[0m         derP \u001b[38;5;241m=\u001b[39m compute_full_deriv(\n\u001b[1;32m    250\u001b[0m             npop,\n\u001b[1;32m    251\u001b[0m             npk,\n\u001b[1;32m    252\u001b[0m             kaiser[j], \u001b[38;5;66;03m#kaiser[:, j],\u001b[39;00m\n\u001b[1;32m    253\u001b[0m             pkval[i],\n\u001b[1;32m    254\u001b[0m             pksmoothval[i],\n\u001b[1;32m    255\u001b[0m             muval,\n\u001b[1;32m    256\u001b[0m             [derPalphaval[\u001b[38;5;241m0\u001b[39m][i, j], derPalphaval[\u001b[38;5;241m1\u001b[39m][i, j]],\n\u001b[1;32m    257\u001b[0m             cosmo\u001b[38;5;241m.\u001b[39mf[iz],\n\u001b[1;32m    258\u001b[0m             cosmo\u001b[38;5;241m.\u001b[39msigma8[iz],\n\u001b[1;32m    259\u001b[0m             BAO_only,\n\u001b[1;32m    260\u001b[0m         )\n\u001b[1;32m    261\u001b[0m         \u001b[38;5;28mprint\u001b[39m(\u001b[38;5;124m'\u001b[39m\u001b[38;5;124mnooo\u001b[39m\u001b[38;5;124m'\u001b[39m)\n\u001b[1;32m    262\u001b[0m         covP, cov_inv \u001b[38;5;241m=\u001b[39m compute_inv_cov(npop, npk, kaiser[:, j], pkval[i], data\u001b[38;5;241m.\u001b[39mnbar[:, iz])\n",
      "File \u001b[0;32m~/enidh/code/capstone/Capstone-Project/TackleBox.py:374\u001b[0m, in \u001b[0;36mcompute_full_deriv\u001b[0;34m(npop, npk, kaiser, pk, pksmooth, mu, derPalpha, f, sigma8, BAO_only)\u001b[0m\n\u001b[1;32m    372\u001b[0m \u001b[38;5;28;01mfor\u001b[39;00m i \u001b[38;5;129;01min\u001b[39;00m \u001b[38;5;28mrange\u001b[39m(npop):\n\u001b[1;32m    373\u001b[0m     derP[i, \u001b[38;5;28mint\u001b[39m(i \u001b[38;5;241m*\u001b[39m (npop \u001b[38;5;241m+\u001b[39m (\u001b[38;5;241m1\u001b[39m \u001b[38;5;241m-\u001b[39m i) \u001b[38;5;241m/\u001b[39m \u001b[38;5;241m2\u001b[39m))] \u001b[38;5;241m=\u001b[39m \u001b[38;5;241m2.0\u001b[39m \u001b[38;5;241m*\u001b[39m kaiser[i] \u001b[38;5;241m*\u001b[39m pk \u001b[38;5;241m/\u001b[39m sigma8\n\u001b[0;32m--> 374\u001b[0m     derP[i, \u001b[38;5;28mint\u001b[39m(i \u001b[38;5;241m*\u001b[39m (npop \u001b[38;5;241m+\u001b[39m (\u001b[38;5;241m1\u001b[39m \u001b[38;5;241m-\u001b[39m i) \u001b[38;5;241m/\u001b[39m \u001b[38;5;241m2\u001b[39m)) \u001b[38;5;241m+\u001b[39m \u001b[38;5;241m1\u001b[39m : \u001b[38;5;28mint\u001b[39m((i \u001b[38;5;241m+\u001b[39m \u001b[38;5;241m1\u001b[39m) \u001b[38;5;241m*\u001b[39m (npop \u001b[38;5;241m-\u001b[39m i \u001b[38;5;241m/\u001b[39m \u001b[38;5;241m2\u001b[39m))] \u001b[38;5;241m=\u001b[39m (\n\u001b[1;32m    375\u001b[0m         kaiser[i \u001b[38;5;241m+\u001b[39m \u001b[38;5;241m1\u001b[39m :] \u001b[38;5;241m*\u001b[39m pk \u001b[38;5;241m/\u001b[39m sigma8\n\u001b[1;32m    376\u001b[0m     )\n\u001b[1;32m    377\u001b[0m     \u001b[38;5;28;01mfor\u001b[39;00m j \u001b[38;5;129;01min\u001b[39;00m \u001b[38;5;28mrange\u001b[39m(\u001b[38;5;241m0\u001b[39m, i):\n\u001b[1;32m    378\u001b[0m         derP[i, i \u001b[38;5;241m+\u001b[39m \u001b[38;5;28mint\u001b[39m(j \u001b[38;5;241m*\u001b[39m (npop \u001b[38;5;241m-\u001b[39m (\u001b[38;5;241m1\u001b[39m \u001b[38;5;241m+\u001b[39m j) \u001b[38;5;241m/\u001b[39m \u001b[38;5;241m2\u001b[39m))] \u001b[38;5;241m=\u001b[39m kaiser[j] \u001b[38;5;241m*\u001b[39m pk \u001b[38;5;241m/\u001b[39m sigma8\n",
      "\u001b[0;31mValueError\u001b[0m: could not broadcast input array from shape (99,) into shape (1,)"
     ]
    }
   ],
   "source": [
    "import sys\n",
    "import numpy as np\n",
    "import importlib\n",
    "from configobj import ConfigObj\n",
    "from TackleBox import Set_Bait, Fish, CovRenorm\n",
    "from ioutils import CosmoResults, InputData, write_fisher\n",
    "from scipy.linalg.lapack import dgesv\n",
    "\n",
    "if __name__ == \"__main__\":\n",
    "\n",
    "    parent = os.path.abspath(\"..\")\n",
    "    sys.path.append(parent)\n",
    "\n",
    "    # Load configuration file\n",
    "    configpath = os.path.join(parent, \"test.ini\")\n",
    "    pardict = ConfigObj(configpath)\n",
    "\n",
    "    # Read in the file containing the redshift bins, nz and bias values\n",
    "    data = InputData(pardict)\n",
    "\n",
    "    # Set up the linear power spectrum and derived parameters based on the input cosmology\n",
    "    cosmo = CosmoResults(pardict, data.zmin, data.zmax)\n",
    "    if np.any(data.volume > 0):\n",
    "        cosmo.volume = data.volume * 1.0e9\n",
    "\n",
    "    # Convert the nz to nbar in (h/Mpc)^3\n",
    "    data.convert_nbar(cosmo.volume, float(pardict[\"skyarea\"]))\n",
    "\n",
    "    # Scales the bias so that it goes as b/G(z)\n",
    "    if pardict.as_bool(\"scale_bias\"):\n",
    "        data.scale_bias(cosmo.growth)\n",
    "    print(\"#  Data nbar\")\n",
    "    print(data.nbar)\n",
    "    print(\"#  Data bias\")\n",
    "    print(data.bias)\n",
    "\n",
    "    # Precompute some things we might need for the Fisher matrix\n",
    "    recon, derPalpha, derPalpha_BAO_only = Set_Bait(cosmo, data, BAO_only=pardict.as_bool(\"BAO_only\"))\n",
    "    print(\"#  Data recon factor\")\n",
    "    print(recon)\n",
    "\n",
    "    # Loop over redshifts and compute the Fisher matrix and output the 3x3 matrix\n",
    "    identity = np.eye(len(data.nbar) + 3)\n",
    "    print(\n",
    "        \"#  z  V(Gpc/h)^3  fsigma8  fsigma8_err(%)  Da(Mpc/h)  Da_err(%)  H(km/s/Mpc)  H_err(%)   alpha_err(%)\"\n",
    "    )\n",
    "    erralpha = np.zeros(len(cosmo.z))\n",
    "    FullCatch = np.zeros((len(cosmo.z) * len(data.nbar) + 3, len(cosmo.z) * len(data.nbar) + 3))\n",
    "    for iz in range(len(cosmo.z)):\n",
    "\n",
    "        if np.any(data.nz[:, iz] > 1.0e-30):\n",
    "\n",
    "            Catch = Fish(\n",
    "                cosmo,\n",
    "                cosmo.kmin,\n",
    "                cosmo.kmax,\n",
    "                data,\n",
    "                iz,\n",
    "                recon[iz],\n",
    "                derPalpha,\n",
    "                pardict.as_bool(\"BAO_only\"),\n",
    "                pardict.as_bool(\"GoFast\"),\n",
    "            )\n",
    "            # print(Catch)\n",
    "\n",
    "            # Add on BAO only information from kmax to k = 0.5 Mpc/h but only for alpha_perp and alpha_par\n",
    "            ExtraCatch = Fish(\n",
    "                cosmo,\n",
    "                cosmo.kmax,\n",
    "                0.5,\n",
    "                data,\n",
    "                iz,\n",
    "                recon[iz],\n",
    "                derPalpha_BAO_only,\n",
    "                True,\n",
    "                pardict.as_bool(\"GoFast\"),\n",
    "            )\n",
    "            Catch[-2:, -2:] += ExtraCatch[-2:, -2:]\n",
    "\n",
    "            # Add the Fisher matrix to the full fisher matrix\n",
    "            FullCatch[\n",
    "                iz * len(data.nbar) : (iz + 1) * len(data.nbar),\n",
    "                iz * len(data.nbar) : (iz + 1) * len(data.nbar),\n",
    "            ] += Catch[: len(data.nbar), : len(data.nbar)]\n",
    "            FullCatch[iz * len(data.nbar) : (iz + 1) * len(data.nbar), -3:,] += Catch[: len(data.nbar), -3:]\n",
    "            FullCatch[-3:, iz * len(data.nbar) : (iz + 1) * len(data.nbar)] += Catch[-3:, : len(data.nbar)]\n",
    "            FullCatch[-3:, -3:] += Catch[-3:, -3:]\n",
    "\n",
    "            # Invert the Fisher matrix to get the parameter covariance matrix\n",
    "            cov = dgesv(Catch, identity)[2]\n",
    "\n",
    "            # Compute the error on isotropic alpha also\n",
    "            J = np.array([2.0 / 3.0, 1.0 / 3.0])\n",
    "            erralpha[iz] = 100.0 * np.sqrt(J @ cov[-2:, -2:] @ J.T)\n",
    "\n",
    "            # Renormalise the covariance from fsigma8, alpha_perp, alpha_par to fsigma8, Da, H\n",
    "            means = np.array([cosmo.f[iz] * cosmo.sigma8[iz], cosmo.da[iz], cosmo.h[iz]])\n",
    "            cov_renorm = CovRenorm(cov, means)\n",
    "\n",
    "            # Print the parameter means and errors\n",
    "            errs = 100.0 * np.sqrt(np.diag(cov_renorm)[-3:]) / means\n",
    "            print(\n",
    "                \" {0:.2f}    {1:.4f}     {2:.3f}       {3:.2f}         {4:.1f}       {5:.2f}        {6:.1f}       {7:.2f}       {8:.3f}\".format(\n",
    "                    cosmo.z[iz],\n",
    "                    cosmo.volume[iz] / 1e9,\n",
    "                    means[0],\n",
    "                    errs[0],\n",
    "                    means[1],\n",
    "                    errs[1],\n",
    "                    means[2],\n",
    "                    errs[2],\n",
    "                    erralpha[iz],\n",
    "                )\n",
    "                #z  V(Gpc/h)^3  fsigma8  fsigma8_err(%)  Da(Mpc/h)  Da_err(%)  H(km/s/Mpc)  H_err(%)   alpha_err(%)\"\n",
    "            )\n",
    "\n",
    "            # Output the fisher matrix for the redshift bin\n",
    "            write_fisher(pardict, cov_renorm, cosmo.z[iz], means)\n",
    "\n",
    "        else:\n",
    "            erralpha[iz] = 1.0e30\n",
    "            print(\n",
    "                \" {0:.2f}     {1:.4f}    {2:.3f}         -          {4:.1f}         -         {6:.1f}         -          -\".format(\n",
    "                    cosmo.z[iz],\n",
    "                    cosmo.volume[iz] / 1e9,\n",
    "                    means[0],\n",
    "                    errs[0],\n",
    "                    means[1],\n",
    "                    errs[1],\n",
    "                    means[2],\n",
    "                    errs[2],\n",
    "                    erralpha[iz],\n",
    "                )\n",
    "            )\n",
    "\n",
    "    # Run the cosmological parameters at the centre of the combined redshift bin\n",
    "    identity = np.eye(len(cosmo.z) * len(data.nbar) + 3)\n",
    "    cosmo = CosmoResults(pardict, np.atleast_1d(data.zmin[0]), np.atleast_1d(data.zmax[-1]))\n",
    "\n",
    "    # Invert the Combined Fisher matrix to get the parameter\n",
    "    # covariance matrix and compute means and errors\n",
    "    cov = dgesv(FullCatch, identity)[2]\n",
    "    J = np.array([2.0 / 3.0, 1.0 / 3.0])\n",
    "    erralpha = 100.0 * np.sqrt(J @ cov[-2:, -2:] @ J.T)\n",
    "    means = np.array([cosmo.f[0] * cosmo.sigma8[0], cosmo.da[0], cosmo.h[0]])\n",
    "    cov_renorm = CovRenorm(cov, means)\n",
    "    errs = 100.0 * np.sqrt(np.diag(cov_renorm)[-3:]) / means\n",
    "    print(\"#  Combined errors\")\n",
    "    print(\"#=================\")\n",
    "    print(\n",
    "        \" {0:.2f}    {1:.4f}     {2:.3f}       {3:.2f}         {4:.1f}       {5:.2f}        {6:.1f}       {7:.2f}       {8:.3f}\".format(\n",
    "            cosmo.z[0],\n",
    "            cosmo.volume[0] / 1e9,\n",
    "            means[0],\n",
    "            errs[0],\n",
    "            means[1],\n",
    "            errs[1],\n",
    "            means[2],\n",
    "            errs[2],\n",
    "            erralpha,\n",
    "        )\n",
    "    )\n"
   ]
  },
  {
   "cell_type": "code",
   "execution_count": null,
   "id": "b794f66b",
   "metadata": {},
   "outputs": [
    {
     "name": "stderr",
     "output_type": "stream",
     "text": [
      "/root/enidh/code/capstone/Capstone-Project/ioutils.py:38: FutureWarning: The 'delim_whitespace' keyword in pd.read_csv is deprecated and will be removed in a future version. Use ``sep='\\s+'`` instead\n",
      "  df = pd.read_csv(\n"
     ]
    },
    {
     "name": "stdout",
     "output_type": "stream",
     "text": [
      "#  Data nbar\n",
      "[[0.04580784]\n",
      " [0.00458078]]\n",
      "#  Data bias\n",
      "[[1.37583381]]\n",
      "#  Data recon factor\n",
      "[0.5]\n",
      "#  z  V(Gpc/h)^3  fsigma8  fsigma8_err(%)  Da(Mpc/h)  Da_err(%)  H(km/s/Mpc)  H_err(%)   alpha_err(%)\n",
      "slay\n"
     ]
    },
    {
     "ename": "ValueError",
     "evalue": "could not broadcast input array from shape (99,) into shape (1,)",
     "output_type": "error",
     "traceback": [
      "\u001b[0;31m---------------------------------------------------------------------------\u001b[0m",
      "\u001b[0;31mValueError\u001b[0m                                Traceback (most recent call last)",
      "Cell \u001b[0;32mIn[1], line 55\u001b[0m\n\u001b[1;32m     52\u001b[0m kmin_ \u001b[38;5;241m=\u001b[39m \u001b[38;5;28mfloat\u001b[39m(cosmo\u001b[38;5;241m.\u001b[39mkmin[iz]) \u001b[38;5;28;01mif\u001b[39;00m np\u001b[38;5;241m.\u001b[39mndim(cosmo\u001b[38;5;241m.\u001b[39mkmin) \u001b[38;5;28;01melse\u001b[39;00m \u001b[38;5;28mfloat\u001b[39m(cosmo\u001b[38;5;241m.\u001b[39mkmin)\n\u001b[1;32m     53\u001b[0m kmax_ \u001b[38;5;241m=\u001b[39m \u001b[38;5;28mfloat\u001b[39m(cosmo\u001b[38;5;241m.\u001b[39mkmax[iz]) \u001b[38;5;28;01mif\u001b[39;00m np\u001b[38;5;241m.\u001b[39mndim(cosmo\u001b[38;5;241m.\u001b[39mkmax) \u001b[38;5;28;01melse\u001b[39;00m \u001b[38;5;28mfloat\u001b[39m(cosmo\u001b[38;5;241m.\u001b[39mkmax)\n\u001b[0;32m---> 55\u001b[0m Catch \u001b[38;5;241m=\u001b[39m Fish(\n\u001b[1;32m     56\u001b[0m     cosmo,\n\u001b[1;32m     57\u001b[0m     kmin_,\n\u001b[1;32m     58\u001b[0m     kmax_,\n\u001b[1;32m     59\u001b[0m     data,\n\u001b[1;32m     60\u001b[0m     iz,\n\u001b[1;32m     61\u001b[0m     recon[iz],\n\u001b[1;32m     62\u001b[0m     derPalpha,\n\u001b[1;32m     63\u001b[0m     pardict\u001b[38;5;241m.\u001b[39mas_bool(\u001b[38;5;124m\"\u001b[39m\u001b[38;5;124mBAO_only\u001b[39m\u001b[38;5;124m\"\u001b[39m),\n\u001b[1;32m     64\u001b[0m     pardict\u001b[38;5;241m.\u001b[39mas_bool(\u001b[38;5;124m\"\u001b[39m\u001b[38;5;124mGoFast\u001b[39m\u001b[38;5;124m\"\u001b[39m),\n\u001b[1;32m     65\u001b[0m )\n\u001b[1;32m     67\u001b[0m \u001b[38;5;66;03m# Add BAO-only info from kmax to 0.5 h/Mpc\u001b[39;00m\n\u001b[1;32m     68\u001b[0m \u001b[38;5;28;01mif\u001b[39;00m \u001b[38;5;241m0.5\u001b[39m \u001b[38;5;241m>\u001b[39m kmax_:\n",
      "File \u001b[0;32m~/enidh/code/capstone/Capstone-Project/TackleBox.py:147\u001b[0m, in \u001b[0;36mFish\u001b[0;34m(cosmo, kmin, kmax, data, iz, recon, derPalpha, BAO_only, GoFast)\u001b[0m\n\u001b[1;32m    143\u001b[0m     kvec \u001b[38;5;241m=\u001b[39m np\u001b[38;5;241m.\u001b[39mlinspace(kmin, kmax, \u001b[38;5;241m400\u001b[39m)\n\u001b[1;32m    144\u001b[0m     \u001b[38;5;66;03m# 2D integration\u001b[39;00m\n\u001b[1;32m    145\u001b[0m     ManyFish \u001b[38;5;241m=\u001b[39m simps(\n\u001b[1;32m    146\u001b[0m         simps(\n\u001b[0;32m--> 147\u001b[0m             CastNet(muvec, kvec, iz, npop, npk, data, cosmo, recon, derPalpha, BAO_only), x\u001b[38;5;241m=\u001b[39mmuvec, axis\u001b[38;5;241m=\u001b[39m\u001b[38;5;241m-\u001b[39m\u001b[38;5;241m1\u001b[39m\n\u001b[1;32m    148\u001b[0m         ),\n\u001b[1;32m    149\u001b[0m         x\u001b[38;5;241m=\u001b[39mkvec,\n\u001b[1;32m    150\u001b[0m         axis\u001b[38;5;241m=\u001b[39m\u001b[38;5;241m-\u001b[39m\u001b[38;5;241m1\u001b[39m,\n\u001b[1;32m    151\u001b[0m     )\n\u001b[1;32m    153\u001b[0m \u001b[38;5;28;01melse\u001b[39;00m:\n\u001b[1;32m    154\u001b[0m     \u001b[38;5;66;03m# Integral over mu\u001b[39;00m\n\u001b[1;32m    155\u001b[0m     OneFish \u001b[38;5;241m=\u001b[39m \u001b[38;5;28;01mlambda\u001b[39;00m \u001b[38;5;241m*\u001b[39margs: quad(CastNet, \u001b[38;5;241m0.0\u001b[39m, \u001b[38;5;241m1.0\u001b[39m, args\u001b[38;5;241m=\u001b[39margs, limit\u001b[38;5;241m=\u001b[39m\u001b[38;5;241m10000\u001b[39m, epsabs\u001b[38;5;241m=\u001b[39m\u001b[38;5;241m1.0e-6\u001b[39m, epsrel\u001b[38;5;241m=\u001b[39m\u001b[38;5;241m1.0e-6\u001b[39m)[\n\u001b[1;32m    156\u001b[0m         \u001b[38;5;241m0\u001b[39m\n\u001b[1;32m    157\u001b[0m     ]\n",
      "File \u001b[0;32m~/enidh/code/capstone/Capstone-Project/TackleBox.py:249\u001b[0m, in \u001b[0;36mCastNet\u001b[0;34m(mu, k, iz, npop, npk, data, cosmo, recon, derPalpha, BAO_only)\u001b[0m\n\u001b[1;32m    246\u001b[0m \u001b[38;5;28;01mfor\u001b[39;00m i, kval \u001b[38;5;129;01min\u001b[39;00m \u001b[38;5;28menumerate\u001b[39m(k):\n\u001b[1;32m    247\u001b[0m     \u001b[38;5;28;01mfor\u001b[39;00m j, muval \u001b[38;5;129;01min\u001b[39;00m \u001b[38;5;28menumerate\u001b[39m(mu):\n\u001b[1;32m    248\u001b[0m         \u001b[38;5;66;03m#print()\u001b[39;00m\n\u001b[0;32m--> 249\u001b[0m         derP \u001b[38;5;241m=\u001b[39m compute_full_deriv(\n\u001b[1;32m    250\u001b[0m             npop,\n\u001b[1;32m    251\u001b[0m             npk,\n\u001b[1;32m    252\u001b[0m             kaiser[j], \u001b[38;5;66;03m#kaiser[:, j],\u001b[39;00m\n\u001b[1;32m    253\u001b[0m             pkval[i],\n\u001b[1;32m    254\u001b[0m             pksmoothval[i],\n\u001b[1;32m    255\u001b[0m             muval,\n\u001b[1;32m    256\u001b[0m             [derPalphaval[\u001b[38;5;241m0\u001b[39m][i, j], derPalphaval[\u001b[38;5;241m1\u001b[39m][i, j]],\n\u001b[1;32m    257\u001b[0m             cosmo\u001b[38;5;241m.\u001b[39mf[iz],\n\u001b[1;32m    258\u001b[0m             cosmo\u001b[38;5;241m.\u001b[39msigma8[iz],\n\u001b[1;32m    259\u001b[0m             BAO_only,\n\u001b[1;32m    260\u001b[0m         )\n\u001b[1;32m    261\u001b[0m         \u001b[38;5;28mprint\u001b[39m(\u001b[38;5;124m'\u001b[39m\u001b[38;5;124mnooo\u001b[39m\u001b[38;5;124m'\u001b[39m)\n\u001b[1;32m    262\u001b[0m         covP, cov_inv \u001b[38;5;241m=\u001b[39m compute_inv_cov(npop, npk, kaiser[:, j], pkval[i], data\u001b[38;5;241m.\u001b[39mnbar[:, iz])\n",
      "File \u001b[0;32m~/enidh/code/capstone/Capstone-Project/TackleBox.py:374\u001b[0m, in \u001b[0;36mcompute_full_deriv\u001b[0;34m(npop, npk, kaiser, pk, pksmooth, mu, derPalpha, f, sigma8, BAO_only)\u001b[0m\n\u001b[1;32m    372\u001b[0m \u001b[38;5;28;01mfor\u001b[39;00m i \u001b[38;5;129;01min\u001b[39;00m \u001b[38;5;28mrange\u001b[39m(npop):\n\u001b[1;32m    373\u001b[0m     derP[i, \u001b[38;5;28mint\u001b[39m(i \u001b[38;5;241m*\u001b[39m (npop \u001b[38;5;241m+\u001b[39m (\u001b[38;5;241m1\u001b[39m \u001b[38;5;241m-\u001b[39m i) \u001b[38;5;241m/\u001b[39m \u001b[38;5;241m2\u001b[39m))] \u001b[38;5;241m=\u001b[39m \u001b[38;5;241m2.0\u001b[39m \u001b[38;5;241m*\u001b[39m kaiser[i] \u001b[38;5;241m*\u001b[39m pk \u001b[38;5;241m/\u001b[39m sigma8\n\u001b[0;32m--> 374\u001b[0m     derP[i, \u001b[38;5;28mint\u001b[39m(i \u001b[38;5;241m*\u001b[39m (npop \u001b[38;5;241m+\u001b[39m (\u001b[38;5;241m1\u001b[39m \u001b[38;5;241m-\u001b[39m i) \u001b[38;5;241m/\u001b[39m \u001b[38;5;241m2\u001b[39m)) \u001b[38;5;241m+\u001b[39m \u001b[38;5;241m1\u001b[39m : \u001b[38;5;28mint\u001b[39m((i \u001b[38;5;241m+\u001b[39m \u001b[38;5;241m1\u001b[39m) \u001b[38;5;241m*\u001b[39m (npop \u001b[38;5;241m-\u001b[39m i \u001b[38;5;241m/\u001b[39m \u001b[38;5;241m2\u001b[39m))] \u001b[38;5;241m=\u001b[39m (\n\u001b[1;32m    375\u001b[0m         kaiser[i \u001b[38;5;241m+\u001b[39m \u001b[38;5;241m1\u001b[39m :] \u001b[38;5;241m*\u001b[39m pk \u001b[38;5;241m/\u001b[39m sigma8\n\u001b[1;32m    376\u001b[0m     )\n\u001b[1;32m    377\u001b[0m     \u001b[38;5;28;01mfor\u001b[39;00m j \u001b[38;5;129;01min\u001b[39;00m \u001b[38;5;28mrange\u001b[39m(\u001b[38;5;241m0\u001b[39m, i):\n\u001b[1;32m    378\u001b[0m         derP[i, i \u001b[38;5;241m+\u001b[39m \u001b[38;5;28mint\u001b[39m(j \u001b[38;5;241m*\u001b[39m (npop \u001b[38;5;241m-\u001b[39m (\u001b[38;5;241m1\u001b[39m \u001b[38;5;241m+\u001b[39m j) \u001b[38;5;241m/\u001b[39m \u001b[38;5;241m2\u001b[39m))] \u001b[38;5;241m=\u001b[39m kaiser[j] \u001b[38;5;241m*\u001b[39m pk \u001b[38;5;241m/\u001b[39m sigma8\n",
      "\u001b[0;31mValueError\u001b[0m: could not broadcast input array from shape (99,) into shape (1,)"
     ]
    }
   ],
   "source": [
    "import sys\n",
    "import os\n",
    "import numpy as np\n",
    "from configobj import ConfigObj\n",
    "from scipy.linalg.lapack import dgesv\n",
    "\n",
    "# Add parent directory to path\n",
    "parent = os.path.abspath(\"..\")\n",
    "sys.path.append(parent)\n",
    "\n",
    "# Load configuration file\n",
    "configpath = os.path.join(parent, \"test.ini\")\n",
    "pardict = ConfigObj(configpath)\n",
    "\n",
    "# Import custom modules\n",
    "from TackleBox import Set_Bait, Fish, CovRenorm\n",
    "from ioutils import CosmoResults, InputData, write_fisher\n",
    "\n",
    "# Load input data\n",
    "data = InputData(pardict)\n",
    "\n",
    "# Set up cosmology\n",
    "cosmo = CosmoResults(pardict, data.zmin, data.zmax)\n",
    "if np.any(data.volume > 0):\n",
    "    cosmo.volume = data.volume * 1.0e9\n",
    "\n",
    "# Convert nz to nbar\n",
    "data.convert_nbar(cosmo.volume, float(pardict[\"skyarea\"]))\n",
    "\n",
    "# Optionally scale bias\n",
    "if pardict.as_bool(\"scale_bias\"):\n",
    "    data.scale_bias(cosmo.growth)\n",
    "\n",
    "print(\"#  Data nbar\")\n",
    "print(data.nbar)\n",
    "print(\"#  Data bias\")\n",
    "print(data.bias)\n",
    "\n",
    "# Precompute derivatives and reconstruction factors\n",
    "recon, derPalpha, derPalpha_BAO_only = Set_Bait(cosmo, data, BAO_only=pardict.as_bool(\"BAO_only\"))\n",
    "print(\"#  Data recon factor\")\n",
    "print(recon)\n",
    "\n",
    "# Initialize Fisher matrix\n",
    "erralpha = np.zeros(len(cosmo.z))\n",
    "FullCatch = np.zeros((len(cosmo.z) * len(data.nbar) + 3, len(cosmo.z) * len(data.nbar) + 3))\n",
    "\n",
    "print(\"#  z  V(Gpc/h)^3  fsigma8  fsigma8_err(%)  Da(Mpc/h)  Da_err(%)  H(km/s/Mpc)  H_err(%)   alpha_err(%)\")\n",
    "\n",
    "for iz in range(len(cosmo.z)):\n",
    "    if np.any(data.nz[:, iz] > 1.0e-30):\n",
    "        kmin_ = float(cosmo.kmin[iz]) if np.ndim(cosmo.kmin) else float(cosmo.kmin)\n",
    "        kmax_ = float(cosmo.kmax[iz]) if np.ndim(cosmo.kmax) else float(cosmo.kmax)\n",
    "\n",
    "        Catch = Fish(\n",
    "            cosmo,\n",
    "            kmin_,\n",
    "            kmax_,\n",
    "            data,\n",
    "            iz,\n",
    "            recon[iz],\n",
    "            derPalpha,\n",
    "            pardict.as_bool(\"BAO_only\"),\n",
    "            pardict.as_bool(\"GoFast\"),\n",
    "        )\n",
    "\n",
    "        # Add BAO-only info from kmax to 0.5 h/Mpc\n",
    "        if 0.5 > kmax_:\n",
    "            ExtraCatch = Fish(\n",
    "                cosmo,\n",
    "                kmax_,\n",
    "                0.5,\n",
    "                data,\n",
    "                iz,\n",
    "                recon[iz],\n",
    "                derPalpha_BAO_only,\n",
    "                True,\n",
    "                pardict.as_bool(\"GoFast\"),\n",
    "            )\n",
    "            Catch[-2:, -2:] += ExtraCatch[-2:, -2:]\n",
    "\n",
    "        # Update FullCatch matrix\n",
    "        start = iz * len(data.nbar)\n",
    "        end = (iz + 1) * len(data.nbar)\n",
    "        FullCatch[start:end, start:end] += Catch[:len(data.nbar), :len(data.nbar)]\n",
    "        FullCatch[start:end, -3:] += Catch[:len(data.nbar), -3:]\n",
    "        FullCatch[-3:, start:end] += Catch[-3:, :len(data.nbar)]\n",
    "        FullCatch[-3:, -3:] += Catch[-3:, -3:]\n",
    "\n",
    "        # Invert Fisher matrix\n",
    "        identity = np.eye(Catch.shape[0])\n",
    "        cov = dgesv(Catch, identity)[2]\n",
    "\n",
    "        # Compute alpha error\n",
    "        J = np.array([2.0 / 3.0, 1.0 / 3.0])\n",
    "        erralpha[iz] = 100.0 * np.sqrt(J @ cov[-2:, -2:] @ J.T)\n",
    "\n",
    "        # Renormalize covariance\n",
    "        means = np.array([cosmo.f[iz] * cosmo.sigma8[iz], cosmo.da[iz], cosmo.h[iz]])\n",
    "        cov_renorm = CovRenorm(cov, means)\n",
    "        errs = 100.0 * np.sqrt(np.diag(cov_renorm)[-3:]) / means\n",
    "\n",
    "        print(\n",
    "            \" {0:.2f}    {1:.4f}     {2:.3f}       {3:.2f}         {4:.1f}       {5:.2f}        {6:.1f}       {7:.2f}       {8:.3f}\".format(\n",
    "                cosmo.z[iz],\n",
    "                cosmo.volume[iz] / 1e9,\n",
    "                means[0],\n",
    "                errs[0],\n",
    "                means[1],\n",
    "                errs[1],\n",
    "                means[2],\n",
    "                errs[2],\n",
    "                erralpha[iz],\n",
    "            )\n",
    "        )\n",
    "\n",
    "        write_fisher(pardict, cov_renorm, cosmo.z[iz], means)\n",
    "\n",
    "    else:\n",
    "        erralpha[iz] = 1.0e30\n",
    "        print(\n",
    "            \" {0:.2f}     {1:.4f}    {2:.3f}         -          {4:.1f}         -         {6:.1f}         -          -\".format(\n",
    "                cosmo.z[iz],\n",
    "                cosmo.volume[iz] / 1e9,\n",
    "                cosmo.f[iz] * cosmo.sigma8[iz],\n",
    "                0.0,\n",
    "                cosmo.da[iz],\n",
    "                0.0,\n",
    "                cosmo.h[iz],\n",
    "                0.0,\n",
    "                erralpha[iz],\n",
    "            )\n",
    "        )\n",
    "\n",
    "# Final combined Fisher matrix\n",
    "identity = np.eye(len(cosmo.z) * len(data.nbar) + 3)\n",
    "cosmo = CosmoResults(pardict, np.atleast_1d(data.zmin[0]), np.atleast_1d(data.zmax[-1]))\n",
    "cov = dgesv(FullCatch, identity)[2]\n",
    "J = np.array([2.0 / 3.0, 1.0 / 3.0])\n",
    "erralpha = 100.0 * np.sqrt(J @ cov[-2:, -2:] @ J.T)\n",
    "means = np.array([cosmo.f[0] * cosmo.sigma8[0], cosmo.da[0], cosmo.h[0]])\n",
    "cov_renorm = CovRenorm(cov, means)\n",
    "errs = 100.0 * np.sqrt(np.diag(cov_renorm)[-3:]) / means\n",
    "\n",
    "print(\"#  Combined errors\")\n",
    "print(\"#=================\")\n",
    "print(\n",
    "    \" {0:.2f}    {1:.4f}     {2:.3f}       {3:.2f}         {4:.1f}       {5:.2f}        {6:.1f}       {7:.2f}       {8:.3f}\".format(\n",
    "        cosmo.z[0],\n",
    "        cosmo.volume[0] / 1e9,\n",
    "        means[0],\n",
    "        errs[0],\n",
    "        means[1],\n",
    "        errs[1],\n",
    "        means[2],\n",
    "        errs[2],\n",
    "        erralpha,\n",
    "    )\n",
    ")\n"
   ]
  }
 ],
 "metadata": {
  "kernelspec": {
   "display_name": "base",
   "language": "python",
   "name": "python3"
  },
  "language_info": {
   "codemirror_mode": {
    "name": "ipython",
    "version": 3
   },
   "file_extension": ".py",
   "mimetype": "text/x-python",
   "name": "python",
   "nbconvert_exporter": "python",
   "pygments_lexer": "ipython3",
   "version": "3.12.2"
  }
 },
 "nbformat": 4,
 "nbformat_minor": 5
}
